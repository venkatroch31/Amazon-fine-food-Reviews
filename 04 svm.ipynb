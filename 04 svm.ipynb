{
 "cells": [
  {
   "cell_type": "markdown",
   "metadata": {},
   "source": [
    "# Amazon Fine Food Reviews Analysis\n",
    "\n",
    "\n",
    "Data Source: https://www.kaggle.com/snap/amazon-fine-food-reviews <br>\n",
    "\n",
    "EDA: https://nycdatascience.com/blog/student-works/amazon-fine-foods-visualization/\n",
    "\n",
    "\n",
    "The Amazon Fine Food Reviews dataset consists of reviews of fine foods from Amazon.<br>\n",
    "\n",
    "Number of reviews: 568,454<br>\n",
    "Number of users: 256,059<br>\n",
    "Number of products: 74,258<br>\n",
    "Timespan: Oct 1999 - Oct 2012<br>\n",
    "Number of Attributes/Columns in data: 10 \n",
    "\n",
    "Attribute Information:\n",
    "\n",
    "1. Id\n",
    "2. ProductId - unique identifier for the product\n",
    "3. UserId - unqiue identifier for the user\n",
    "4. ProfileName\n",
    "5. HelpfulnessNumerator - number of users who found the review helpful\n",
    "6. HelpfulnessDenominator - number of users who indicated whether they found the review helpful or not\n",
    "7. Score - rating between 1 and 5\n",
    "8. Time - timestamp for the review\n",
    "9. Summary - brief summary of the review\n",
    "10. Text - text of the review\n",
    "\n",
    "\n",
    "#### Objective:\n",
    "Given a review, determine whether the review is positive (rating of 4 or 5) or negative (rating of 1 or 2).\n",
    "\n",
    "<br>\n",
    "[Q] How to determine if a review is positive or negative?<br>\n",
    "<br> \n",
    "[Ans] We could use Score/Rating. A rating of 4 or 5 can be cosnidered as a positive review. A rating of 1 or 2 can be considered as negative one. A review of rating 3 is considered nuetral and such reviews are ignored from our analysis. This is an approximate and proxy way of determining the polarity (positivity/negativity) of a review.\n",
    "\n",
    "\n"
   ]
  },
  {
   "cell_type": "markdown",
   "metadata": {},
   "source": [
    "# [1]. Reading Data"
   ]
  },
  {
   "cell_type": "markdown",
   "metadata": {},
   "source": [
    "## [1.1] Loading the data\n",
    "\n",
    "The dataset is available in two forms\n",
    "1. .csv file\n",
    "2. SQLite Database\n",
    "\n",
    "In order to load the data, We have used the SQLITE dataset as it is easier to query the data and visualise the data efficiently.\n",
    "<br> \n",
    "\n",
    "Here as we only want to get the global sentiment of the recommendations (positive or negative), we will purposefully ignore all Scores equal to 3. If the score is above 3, then the recommendation wil be set to \"positive\". Otherwise, it will be set to \"negative\"."
   ]
  },
  {
   "cell_type": "code",
   "execution_count": 206,
   "metadata": {},
   "outputs": [],
   "source": [
    "%matplotlib inline\n",
    "import warnings\n",
    "warnings.filterwarnings(\"ignore\")\n",
    "\n",
    "\n",
    "import sqlite3\n",
    "import pandas as pd\n",
    "import numpy as np\n",
    "import nltk\n",
    "import string\n",
    "import matplotlib.pyplot as plt\n",
    "import seaborn as sns\n",
    "from sklearn.feature_extraction.text import TfidfTransformer\n",
    "from sklearn.feature_extraction.text import TfidfVectorizer\n",
    "\n",
    "from sklearn.feature_extraction.text import CountVectorizer\n",
    "from sklearn.metrics import confusion_matrix\n",
    "from sklearn import metrics\n",
    "from sklearn.metrics import roc_curve, auc\n",
    "from nltk.stem.porter import PorterStemmer\n",
    "\n",
    "import re\n",
    "# Tutorial about Python regular expressions: https://pymotw.com/2/re/\n",
    "import string\n",
    "from nltk.corpus import stopwords\n",
    "from nltk.stem import PorterStemmer\n",
    "from nltk.stem.wordnet import WordNetLemmatizer\n",
    "\n",
    "from gensim.models import Word2Vec\n",
    "from gensim.models import KeyedVectors\n",
    "import pickle\n",
    "\n",
    "from tqdm import tqdm\n",
    "import os"
   ]
  },
  {
   "cell_type": "code",
   "execution_count": 207,
   "metadata": {},
   "outputs": [
    {
     "name": "stdout",
     "output_type": "stream",
     "text": [
      "Number of data points in our data (100000, 10)\n"
     ]
    },
    {
     "data": {
      "text/html": [
       "<div>\n",
       "<style scoped>\n",
       "    .dataframe tbody tr th:only-of-type {\n",
       "        vertical-align: middle;\n",
       "    }\n",
       "\n",
       "    .dataframe tbody tr th {\n",
       "        vertical-align: top;\n",
       "    }\n",
       "\n",
       "    .dataframe thead th {\n",
       "        text-align: right;\n",
       "    }\n",
       "</style>\n",
       "<table border=\"1\" class=\"dataframe\">\n",
       "  <thead>\n",
       "    <tr style=\"text-align: right;\">\n",
       "      <th></th>\n",
       "      <th>Id</th>\n",
       "      <th>ProductId</th>\n",
       "      <th>UserId</th>\n",
       "      <th>ProfileName</th>\n",
       "      <th>HelpfulnessNumerator</th>\n",
       "      <th>HelpfulnessDenominator</th>\n",
       "      <th>Score</th>\n",
       "      <th>Time</th>\n",
       "      <th>Summary</th>\n",
       "      <th>Text</th>\n",
       "    </tr>\n",
       "  </thead>\n",
       "  <tbody>\n",
       "    <tr>\n",
       "      <th>0</th>\n",
       "      <td>1</td>\n",
       "      <td>B001E4KFG0</td>\n",
       "      <td>A3SGXH7AUHU8GW</td>\n",
       "      <td>delmartian</td>\n",
       "      <td>1</td>\n",
       "      <td>1</td>\n",
       "      <td>1</td>\n",
       "      <td>1303862400</td>\n",
       "      <td>Good Quality Dog Food</td>\n",
       "      <td>I have bought several of the Vitality canned d...</td>\n",
       "    </tr>\n",
       "    <tr>\n",
       "      <th>1</th>\n",
       "      <td>2</td>\n",
       "      <td>B00813GRG4</td>\n",
       "      <td>A1D87F6ZCVE5NK</td>\n",
       "      <td>dll pa</td>\n",
       "      <td>0</td>\n",
       "      <td>0</td>\n",
       "      <td>0</td>\n",
       "      <td>1346976000</td>\n",
       "      <td>Not as Advertised</td>\n",
       "      <td>Product arrived labeled as Jumbo Salted Peanut...</td>\n",
       "    </tr>\n",
       "    <tr>\n",
       "      <th>2</th>\n",
       "      <td>3</td>\n",
       "      <td>B000LQOCH0</td>\n",
       "      <td>ABXLMWJIXXAIN</td>\n",
       "      <td>Natalia Corres \"Natalia Corres\"</td>\n",
       "      <td>1</td>\n",
       "      <td>1</td>\n",
       "      <td>1</td>\n",
       "      <td>1219017600</td>\n",
       "      <td>\"Delight\" says it all</td>\n",
       "      <td>This is a confection that has been around a fe...</td>\n",
       "    </tr>\n",
       "  </tbody>\n",
       "</table>\n",
       "</div>"
      ],
      "text/plain": [
       "   Id   ProductId          UserId                      ProfileName  \\\n",
       "0   1  B001E4KFG0  A3SGXH7AUHU8GW                       delmartian   \n",
       "1   2  B00813GRG4  A1D87F6ZCVE5NK                           dll pa   \n",
       "2   3  B000LQOCH0   ABXLMWJIXXAIN  Natalia Corres \"Natalia Corres\"   \n",
       "\n",
       "   HelpfulnessNumerator  HelpfulnessDenominator  Score        Time  \\\n",
       "0                     1                       1      1  1303862400   \n",
       "1                     0                       0      0  1346976000   \n",
       "2                     1                       1      1  1219017600   \n",
       "\n",
       "                 Summary                                               Text  \n",
       "0  Good Quality Dog Food  I have bought several of the Vitality canned d...  \n",
       "1      Not as Advertised  Product arrived labeled as Jumbo Salted Peanut...  \n",
       "2  \"Delight\" says it all  This is a confection that has been around a fe...  "
      ]
     },
     "execution_count": 207,
     "metadata": {},
     "output_type": "execute_result"
    }
   ],
   "source": [
    "# using SQLite Table to read data.\n",
    "con = sqlite3.connect('database.sqlite') \n",
    "\n",
    "# filtering only positive and negative reviews i.e. \n",
    "# not taking into consideration those reviews with Score=3\n",
    "# SELECT * FROM Reviews WHERE Score != 3 LIMIT 500000, will give top 500000 data points\n",
    "# you can change the number to any other number based on your computing power\n",
    "\n",
    "# filtered_data = pd.read_sql_query(\"\"\" SELECT * FROM Reviews WHERE Score != 3 LIMIT 500000\"\"\", con) \n",
    "# for tsne assignment you can take 5k data points\n",
    "\n",
    "filtered_data = pd.read_sql_query(\"\"\" SELECT * FROM Reviews WHERE Score != 3 LIMIT 100000\"\"\", con) \n",
    "\n",
    "# Give reviews with Score>3 a positive rating(1), and reviews with a score<3 a negative rating(0).\n",
    "def partition(x):\n",
    "    if x < 3:\n",
    "        return 0\n",
    "    return 1\n",
    "\n",
    "#changing reviews with score less than 3 to be positive and vice-versa\n",
    "actualScore = filtered_data['Score']\n",
    "positiveNegative = actualScore.map(partition) \n",
    "filtered_data['Score'] = positiveNegative\n",
    "print(\"Number of data points in our data\", filtered_data.shape)\n",
    "filtered_data.head(3)"
   ]
  },
  {
   "cell_type": "code",
   "execution_count": 208,
   "metadata": {},
   "outputs": [],
   "source": [
    "display = pd.read_sql_query(\"\"\"\n",
    "SELECT UserId, ProductId, ProfileName, Time, Score, Text, COUNT(*)\n",
    "FROM Reviews\n",
    "GROUP BY UserId\n",
    "HAVING COUNT(*)>1\n",
    "\"\"\", con)"
   ]
  },
  {
   "cell_type": "code",
   "execution_count": 209,
   "metadata": {
    "scrolled": true
   },
   "outputs": [
    {
     "name": "stdout",
     "output_type": "stream",
     "text": [
      "(80668, 7)\n"
     ]
    },
    {
     "data": {
      "text/html": [
       "<div>\n",
       "<style scoped>\n",
       "    .dataframe tbody tr th:only-of-type {\n",
       "        vertical-align: middle;\n",
       "    }\n",
       "\n",
       "    .dataframe tbody tr th {\n",
       "        vertical-align: top;\n",
       "    }\n",
       "\n",
       "    .dataframe thead th {\n",
       "        text-align: right;\n",
       "    }\n",
       "</style>\n",
       "<table border=\"1\" class=\"dataframe\">\n",
       "  <thead>\n",
       "    <tr style=\"text-align: right;\">\n",
       "      <th></th>\n",
       "      <th>UserId</th>\n",
       "      <th>ProductId</th>\n",
       "      <th>ProfileName</th>\n",
       "      <th>Time</th>\n",
       "      <th>Score</th>\n",
       "      <th>Text</th>\n",
       "      <th>COUNT(*)</th>\n",
       "    </tr>\n",
       "  </thead>\n",
       "  <tbody>\n",
       "    <tr>\n",
       "      <th>0</th>\n",
       "      <td>#oc-R115TNMSPFT9I7</td>\n",
       "      <td>B007Y59HVM</td>\n",
       "      <td>Breyton</td>\n",
       "      <td>1331510400</td>\n",
       "      <td>2</td>\n",
       "      <td>Overall its just OK when considering the price...</td>\n",
       "      <td>2</td>\n",
       "    </tr>\n",
       "    <tr>\n",
       "      <th>1</th>\n",
       "      <td>#oc-R11D9D7SHXIJB9</td>\n",
       "      <td>B005HG9ET0</td>\n",
       "      <td>Louis E. Emory \"hoppy\"</td>\n",
       "      <td>1342396800</td>\n",
       "      <td>5</td>\n",
       "      <td>My wife has recurring extreme muscle spasms, u...</td>\n",
       "      <td>3</td>\n",
       "    </tr>\n",
       "    <tr>\n",
       "      <th>2</th>\n",
       "      <td>#oc-R11DNU2NBKQ23Z</td>\n",
       "      <td>B007Y59HVM</td>\n",
       "      <td>Kim Cieszykowski</td>\n",
       "      <td>1348531200</td>\n",
       "      <td>1</td>\n",
       "      <td>This coffee is horrible and unfortunately not ...</td>\n",
       "      <td>2</td>\n",
       "    </tr>\n",
       "    <tr>\n",
       "      <th>3</th>\n",
       "      <td>#oc-R11O5J5ZVQE25C</td>\n",
       "      <td>B005HG9ET0</td>\n",
       "      <td>Penguin Chick</td>\n",
       "      <td>1346889600</td>\n",
       "      <td>5</td>\n",
       "      <td>This will be the bottle that you grab from the...</td>\n",
       "      <td>3</td>\n",
       "    </tr>\n",
       "    <tr>\n",
       "      <th>4</th>\n",
       "      <td>#oc-R12KPBODL2B5ZD</td>\n",
       "      <td>B007OSBE1U</td>\n",
       "      <td>Christopher P. Presta</td>\n",
       "      <td>1348617600</td>\n",
       "      <td>1</td>\n",
       "      <td>I didnt like this coffee. Instead of telling y...</td>\n",
       "      <td>2</td>\n",
       "    </tr>\n",
       "  </tbody>\n",
       "</table>\n",
       "</div>"
      ],
      "text/plain": [
       "               UserId   ProductId             ProfileName        Time  Score  \\\n",
       "0  #oc-R115TNMSPFT9I7  B007Y59HVM                 Breyton  1331510400      2   \n",
       "1  #oc-R11D9D7SHXIJB9  B005HG9ET0  Louis E. Emory \"hoppy\"  1342396800      5   \n",
       "2  #oc-R11DNU2NBKQ23Z  B007Y59HVM        Kim Cieszykowski  1348531200      1   \n",
       "3  #oc-R11O5J5ZVQE25C  B005HG9ET0           Penguin Chick  1346889600      5   \n",
       "4  #oc-R12KPBODL2B5ZD  B007OSBE1U   Christopher P. Presta  1348617600      1   \n",
       "\n",
       "                                                Text  COUNT(*)  \n",
       "0  Overall its just OK when considering the price...         2  \n",
       "1  My wife has recurring extreme muscle spasms, u...         3  \n",
       "2  This coffee is horrible and unfortunately not ...         2  \n",
       "3  This will be the bottle that you grab from the...         3  \n",
       "4  I didnt like this coffee. Instead of telling y...         2  "
      ]
     },
     "execution_count": 209,
     "metadata": {},
     "output_type": "execute_result"
    }
   ],
   "source": [
    "print(display.shape)\n",
    "display.head()"
   ]
  },
  {
   "cell_type": "code",
   "execution_count": 210,
   "metadata": {},
   "outputs": [
    {
     "data": {
      "text/html": [
       "<div>\n",
       "<style scoped>\n",
       "    .dataframe tbody tr th:only-of-type {\n",
       "        vertical-align: middle;\n",
       "    }\n",
       "\n",
       "    .dataframe tbody tr th {\n",
       "        vertical-align: top;\n",
       "    }\n",
       "\n",
       "    .dataframe thead th {\n",
       "        text-align: right;\n",
       "    }\n",
       "</style>\n",
       "<table border=\"1\" class=\"dataframe\">\n",
       "  <thead>\n",
       "    <tr style=\"text-align: right;\">\n",
       "      <th></th>\n",
       "      <th>UserId</th>\n",
       "      <th>ProductId</th>\n",
       "      <th>ProfileName</th>\n",
       "      <th>Time</th>\n",
       "      <th>Score</th>\n",
       "      <th>Text</th>\n",
       "      <th>COUNT(*)</th>\n",
       "    </tr>\n",
       "  </thead>\n",
       "  <tbody>\n",
       "    <tr>\n",
       "      <th>80638</th>\n",
       "      <td>AZY10LLTJ71NX</td>\n",
       "      <td>B006P7E5ZI</td>\n",
       "      <td>undertheshrine \"undertheshrine\"</td>\n",
       "      <td>1334707200</td>\n",
       "      <td>5</td>\n",
       "      <td>I was recommended to try green tea extract to ...</td>\n",
       "      <td>5</td>\n",
       "    </tr>\n",
       "  </tbody>\n",
       "</table>\n",
       "</div>"
      ],
      "text/plain": [
       "              UserId   ProductId                      ProfileName        Time  \\\n",
       "80638  AZY10LLTJ71NX  B006P7E5ZI  undertheshrine \"undertheshrine\"  1334707200   \n",
       "\n",
       "       Score                                               Text  COUNT(*)  \n",
       "80638      5  I was recommended to try green tea extract to ...         5  "
      ]
     },
     "execution_count": 210,
     "metadata": {},
     "output_type": "execute_result"
    }
   ],
   "source": [
    "display[display['UserId']=='AZY10LLTJ71NX']"
   ]
  },
  {
   "cell_type": "code",
   "execution_count": 211,
   "metadata": {},
   "outputs": [
    {
     "data": {
      "text/plain": [
       "393063"
      ]
     },
     "execution_count": 211,
     "metadata": {},
     "output_type": "execute_result"
    }
   ],
   "source": [
    "display['COUNT(*)'].sum()"
   ]
  },
  {
   "cell_type": "markdown",
   "metadata": {},
   "source": [
    "#  [2] Exploratory Data Analysis"
   ]
  },
  {
   "cell_type": "markdown",
   "metadata": {},
   "source": [
    "## [2.1] Data Cleaning: Deduplication\n",
    "\n",
    "It is observed (as shown in the table below) that the reviews data had many duplicate entries. Hence it was necessary to remove duplicates in order to get unbiased results for the analysis of the data.  Following is an example:"
   ]
  },
  {
   "cell_type": "code",
   "execution_count": 212,
   "metadata": {
    "scrolled": false
   },
   "outputs": [
    {
     "data": {
      "text/html": [
       "<div>\n",
       "<style scoped>\n",
       "    .dataframe tbody tr th:only-of-type {\n",
       "        vertical-align: middle;\n",
       "    }\n",
       "\n",
       "    .dataframe tbody tr th {\n",
       "        vertical-align: top;\n",
       "    }\n",
       "\n",
       "    .dataframe thead th {\n",
       "        text-align: right;\n",
       "    }\n",
       "</style>\n",
       "<table border=\"1\" class=\"dataframe\">\n",
       "  <thead>\n",
       "    <tr style=\"text-align: right;\">\n",
       "      <th></th>\n",
       "      <th>Id</th>\n",
       "      <th>ProductId</th>\n",
       "      <th>UserId</th>\n",
       "      <th>ProfileName</th>\n",
       "      <th>HelpfulnessNumerator</th>\n",
       "      <th>HelpfulnessDenominator</th>\n",
       "      <th>Score</th>\n",
       "      <th>Time</th>\n",
       "      <th>Summary</th>\n",
       "      <th>Text</th>\n",
       "    </tr>\n",
       "  </thead>\n",
       "  <tbody>\n",
       "    <tr>\n",
       "      <th>0</th>\n",
       "      <td>78445</td>\n",
       "      <td>B000HDL1RQ</td>\n",
       "      <td>AR5J8UI46CURR</td>\n",
       "      <td>Geetha Krishnan</td>\n",
       "      <td>2</td>\n",
       "      <td>2</td>\n",
       "      <td>5</td>\n",
       "      <td>1199577600</td>\n",
       "      <td>LOACKER QUADRATINI VANILLA WAFERS</td>\n",
       "      <td>DELICIOUS WAFERS. I FIND THAT EUROPEAN WAFERS ...</td>\n",
       "    </tr>\n",
       "    <tr>\n",
       "      <th>1</th>\n",
       "      <td>138317</td>\n",
       "      <td>B000HDOPYC</td>\n",
       "      <td>AR5J8UI46CURR</td>\n",
       "      <td>Geetha Krishnan</td>\n",
       "      <td>2</td>\n",
       "      <td>2</td>\n",
       "      <td>5</td>\n",
       "      <td>1199577600</td>\n",
       "      <td>LOACKER QUADRATINI VANILLA WAFERS</td>\n",
       "      <td>DELICIOUS WAFERS. I FIND THAT EUROPEAN WAFERS ...</td>\n",
       "    </tr>\n",
       "    <tr>\n",
       "      <th>2</th>\n",
       "      <td>138277</td>\n",
       "      <td>B000HDOPYM</td>\n",
       "      <td>AR5J8UI46CURR</td>\n",
       "      <td>Geetha Krishnan</td>\n",
       "      <td>2</td>\n",
       "      <td>2</td>\n",
       "      <td>5</td>\n",
       "      <td>1199577600</td>\n",
       "      <td>LOACKER QUADRATINI VANILLA WAFERS</td>\n",
       "      <td>DELICIOUS WAFERS. I FIND THAT EUROPEAN WAFERS ...</td>\n",
       "    </tr>\n",
       "    <tr>\n",
       "      <th>3</th>\n",
       "      <td>73791</td>\n",
       "      <td>B000HDOPZG</td>\n",
       "      <td>AR5J8UI46CURR</td>\n",
       "      <td>Geetha Krishnan</td>\n",
       "      <td>2</td>\n",
       "      <td>2</td>\n",
       "      <td>5</td>\n",
       "      <td>1199577600</td>\n",
       "      <td>LOACKER QUADRATINI VANILLA WAFERS</td>\n",
       "      <td>DELICIOUS WAFERS. I FIND THAT EUROPEAN WAFERS ...</td>\n",
       "    </tr>\n",
       "    <tr>\n",
       "      <th>4</th>\n",
       "      <td>155049</td>\n",
       "      <td>B000PAQ75C</td>\n",
       "      <td>AR5J8UI46CURR</td>\n",
       "      <td>Geetha Krishnan</td>\n",
       "      <td>2</td>\n",
       "      <td>2</td>\n",
       "      <td>5</td>\n",
       "      <td>1199577600</td>\n",
       "      <td>LOACKER QUADRATINI VANILLA WAFERS</td>\n",
       "      <td>DELICIOUS WAFERS. I FIND THAT EUROPEAN WAFERS ...</td>\n",
       "    </tr>\n",
       "  </tbody>\n",
       "</table>\n",
       "</div>"
      ],
      "text/plain": [
       "       Id   ProductId         UserId      ProfileName  HelpfulnessNumerator  \\\n",
       "0   78445  B000HDL1RQ  AR5J8UI46CURR  Geetha Krishnan                     2   \n",
       "1  138317  B000HDOPYC  AR5J8UI46CURR  Geetha Krishnan                     2   \n",
       "2  138277  B000HDOPYM  AR5J8UI46CURR  Geetha Krishnan                     2   \n",
       "3   73791  B000HDOPZG  AR5J8UI46CURR  Geetha Krishnan                     2   \n",
       "4  155049  B000PAQ75C  AR5J8UI46CURR  Geetha Krishnan                     2   \n",
       "\n",
       "   HelpfulnessDenominator  Score        Time  \\\n",
       "0                       2      5  1199577600   \n",
       "1                       2      5  1199577600   \n",
       "2                       2      5  1199577600   \n",
       "3                       2      5  1199577600   \n",
       "4                       2      5  1199577600   \n",
       "\n",
       "                             Summary  \\\n",
       "0  LOACKER QUADRATINI VANILLA WAFERS   \n",
       "1  LOACKER QUADRATINI VANILLA WAFERS   \n",
       "2  LOACKER QUADRATINI VANILLA WAFERS   \n",
       "3  LOACKER QUADRATINI VANILLA WAFERS   \n",
       "4  LOACKER QUADRATINI VANILLA WAFERS   \n",
       "\n",
       "                                                Text  \n",
       "0  DELICIOUS WAFERS. I FIND THAT EUROPEAN WAFERS ...  \n",
       "1  DELICIOUS WAFERS. I FIND THAT EUROPEAN WAFERS ...  \n",
       "2  DELICIOUS WAFERS. I FIND THAT EUROPEAN WAFERS ...  \n",
       "3  DELICIOUS WAFERS. I FIND THAT EUROPEAN WAFERS ...  \n",
       "4  DELICIOUS WAFERS. I FIND THAT EUROPEAN WAFERS ...  "
      ]
     },
     "execution_count": 212,
     "metadata": {},
     "output_type": "execute_result"
    }
   ],
   "source": [
    "display= pd.read_sql_query(\"\"\"\n",
    "SELECT *\n",
    "FROM Reviews\n",
    "WHERE Score != 3 AND UserId=\"AR5J8UI46CURR\"\n",
    "ORDER BY ProductID\n",
    "\"\"\", con)\n",
    "display.head()"
   ]
  },
  {
   "cell_type": "markdown",
   "metadata": {},
   "source": [
    "As it can be seen above that same user has multiple reviews with same values for HelpfulnessNumerator, HelpfulnessDenominator, Score, Time, Summary and Text and on doing analysis it was found that <br>\n",
    "<br> \n",
    "ProductId=B000HDOPZG was Loacker Quadratini Vanilla Wafer Cookies, 8.82-Ounce Packages (Pack of 8)<br>\n",
    "<br> \n",
    "ProductId=B000HDL1RQ was Loacker Quadratini Lemon Wafer Cookies, 8.82-Ounce Packages (Pack of 8) and so on<br>\n",
    "\n",
    "It was inferred after analysis that reviews with same parameters other than ProductId belonged to the same product just having different flavour or quantity. Hence in order to reduce redundancy it was decided to eliminate the rows having same parameters.<br>\n",
    "\n",
    "The method used for the same was that we first sort the data according to ProductId and then just keep the first similar product review and delelte the others. for eg. in the above just the review for ProductId=B000HDL1RQ remains. This method ensures that there is only one representative for each product and deduplication without sorting would lead to possibility of different representatives still existing for the same product."
   ]
  },
  {
   "cell_type": "code",
   "execution_count": 213,
   "metadata": {},
   "outputs": [],
   "source": [
    "#Sorting data according to ProductId in ascending order\n",
    "sorted_data=filtered_data.sort_values('ProductId', axis=0, ascending=True, inplace=False, kind='quicksort', na_position='last')"
   ]
  },
  {
   "cell_type": "code",
   "execution_count": 214,
   "metadata": {},
   "outputs": [
    {
     "data": {
      "text/plain": [
       "(87775, 10)"
      ]
     },
     "execution_count": 214,
     "metadata": {},
     "output_type": "execute_result"
    }
   ],
   "source": [
    "#Deduplication of entries\n",
    "final=sorted_data.drop_duplicates(subset={\"UserId\",\"ProfileName\",\"Time\",\"Text\"}, keep='first', inplace=False)\n",
    "final.shape"
   ]
  },
  {
   "cell_type": "code",
   "execution_count": 215,
   "metadata": {},
   "outputs": [
    {
     "data": {
      "text/plain": [
       "87.775"
      ]
     },
     "execution_count": 215,
     "metadata": {},
     "output_type": "execute_result"
    }
   ],
   "source": [
    "#Checking to see how much % of data still remains\n",
    "(final['Id'].size*1.0)/(filtered_data['Id'].size*1.0)*100"
   ]
  },
  {
   "cell_type": "markdown",
   "metadata": {},
   "source": [
    "<b>Observation:-</b> It was also seen that in two rows given below the value of HelpfulnessNumerator is greater than HelpfulnessDenominator which is not practically possible hence these two rows too are removed from calcualtions"
   ]
  },
  {
   "cell_type": "code",
   "execution_count": 216,
   "metadata": {},
   "outputs": [
    {
     "data": {
      "text/html": [
       "<div>\n",
       "<style scoped>\n",
       "    .dataframe tbody tr th:only-of-type {\n",
       "        vertical-align: middle;\n",
       "    }\n",
       "\n",
       "    .dataframe tbody tr th {\n",
       "        vertical-align: top;\n",
       "    }\n",
       "\n",
       "    .dataframe thead th {\n",
       "        text-align: right;\n",
       "    }\n",
       "</style>\n",
       "<table border=\"1\" class=\"dataframe\">\n",
       "  <thead>\n",
       "    <tr style=\"text-align: right;\">\n",
       "      <th></th>\n",
       "      <th>Id</th>\n",
       "      <th>ProductId</th>\n",
       "      <th>UserId</th>\n",
       "      <th>ProfileName</th>\n",
       "      <th>HelpfulnessNumerator</th>\n",
       "      <th>HelpfulnessDenominator</th>\n",
       "      <th>Score</th>\n",
       "      <th>Time</th>\n",
       "      <th>Summary</th>\n",
       "      <th>Text</th>\n",
       "    </tr>\n",
       "  </thead>\n",
       "  <tbody>\n",
       "    <tr>\n",
       "      <th>0</th>\n",
       "      <td>64422</td>\n",
       "      <td>B000MIDROQ</td>\n",
       "      <td>A161DK06JJMCYF</td>\n",
       "      <td>J. E. Stephens \"Jeanne\"</td>\n",
       "      <td>3</td>\n",
       "      <td>1</td>\n",
       "      <td>5</td>\n",
       "      <td>1224892800</td>\n",
       "      <td>Bought This for My Son at College</td>\n",
       "      <td>My son loves spaghetti so I didn't hesitate or...</td>\n",
       "    </tr>\n",
       "    <tr>\n",
       "      <th>1</th>\n",
       "      <td>44737</td>\n",
       "      <td>B001EQ55RW</td>\n",
       "      <td>A2V0I904FH7ABY</td>\n",
       "      <td>Ram</td>\n",
       "      <td>3</td>\n",
       "      <td>2</td>\n",
       "      <td>4</td>\n",
       "      <td>1212883200</td>\n",
       "      <td>Pure cocoa taste with crunchy almonds inside</td>\n",
       "      <td>It was almost a 'love at first bite' - the per...</td>\n",
       "    </tr>\n",
       "  </tbody>\n",
       "</table>\n",
       "</div>"
      ],
      "text/plain": [
       "      Id   ProductId          UserId              ProfileName  \\\n",
       "0  64422  B000MIDROQ  A161DK06JJMCYF  J. E. Stephens \"Jeanne\"   \n",
       "1  44737  B001EQ55RW  A2V0I904FH7ABY                      Ram   \n",
       "\n",
       "   HelpfulnessNumerator  HelpfulnessDenominator  Score        Time  \\\n",
       "0                     3                       1      5  1224892800   \n",
       "1                     3                       2      4  1212883200   \n",
       "\n",
       "                                        Summary  \\\n",
       "0             Bought This for My Son at College   \n",
       "1  Pure cocoa taste with crunchy almonds inside   \n",
       "\n",
       "                                                Text  \n",
       "0  My son loves spaghetti so I didn't hesitate or...  \n",
       "1  It was almost a 'love at first bite' - the per...  "
      ]
     },
     "execution_count": 216,
     "metadata": {},
     "output_type": "execute_result"
    }
   ],
   "source": [
    "display= pd.read_sql_query(\"\"\"\n",
    "SELECT *\n",
    "FROM Reviews\n",
    "WHERE Score != 3 AND Id=44737 OR Id=64422\n",
    "ORDER BY ProductID\n",
    "\"\"\", con)\n",
    "\n",
    "display.head()"
   ]
  },
  {
   "cell_type": "code",
   "execution_count": 217,
   "metadata": {},
   "outputs": [],
   "source": [
    "final=final[final.HelpfulnessNumerator<=final.HelpfulnessDenominator]"
   ]
  },
  {
   "cell_type": "code",
   "execution_count": 218,
   "metadata": {},
   "outputs": [
    {
     "name": "stdout",
     "output_type": "stream",
     "text": [
      "(87773, 10)\n"
     ]
    },
    {
     "data": {
      "text/plain": [
       "1    73592\n",
       "0    14181\n",
       "Name: Score, dtype: int64"
      ]
     },
     "execution_count": 218,
     "metadata": {},
     "output_type": "execute_result"
    }
   ],
   "source": [
    "#Before starting the next phase of preprocessing lets see the number of entries left\n",
    "print(final.shape)\n",
    "\n",
    "#How many positive and negative reviews are present in our dataset?\n",
    "final['Score'].value_counts()"
   ]
  },
  {
   "cell_type": "markdown",
   "metadata": {},
   "source": [
    "#  [3] Preprocessing"
   ]
  },
  {
   "cell_type": "markdown",
   "metadata": {},
   "source": [
    "## [3.1].  Preprocessing Review Text\n",
    "\n",
    "Now that we have finished deduplication our data requires some preprocessing before we go on further with analysis and making the prediction model.\n",
    "\n",
    "Hence in the Preprocessing phase we do the following in the order below:-\n",
    "\n",
    "1. Begin by removing the html tags\n",
    "2. Remove any punctuations or limited set of special characters like , or . or # etc.\n",
    "3. Check if the word is made up of english letters and is not alpha-numeric\n",
    "4. Check to see if the length of the word is greater than 2 (as it was researched that there is no adjective in 2-letters)\n",
    "5. Convert the word to lowercase\n",
    "6. Remove Stopwords\n",
    "7. Finally Snowball Stemming the word (it was obsereved to be better than Porter Stemming)<br>\n",
    "\n",
    "After which we collect the words used to describe positive and negative reviews"
   ]
  },
  {
   "cell_type": "code",
   "execution_count": 219,
   "metadata": {},
   "outputs": [
    {
     "name": "stdout",
     "output_type": "stream",
     "text": [
      "My dogs loves this chicken but its a product from China, so we wont be buying it anymore.  Its very hard to find any chicken products made in the USA but they are out there, but this one isnt.  Its too bad too because its a good product but I wont take any chances till they know what is going on with the china imports.\n",
      "==================================================\n",
      "The Candy Blocks were a nice visual for the Lego Birthday party but the candy has little taste to it.  Very little of the 2 lbs that I bought were eaten and I threw the rest away.  I would not buy the candy again.\n",
      "==================================================\n",
      "was way to hot for my blood, took a bite and did a jig  lol\n",
      "==================================================\n",
      "My dog LOVES these treats. They tend to have a very strong fish oil smell. So if you are afraid of the fishy smell, don't get it. But I think my dog likes it because of the smell. These treats are really small in size. They are great for training. You can give your dog several of these without worrying about him over eating. Amazon's price was much more reasonable than any other retailer. You can buy a 1 pound bag on Amazon for almost the same price as a 6 ounce bag at other retailers. It's definitely worth it to buy a big bag if your dog eats them a lot.\n",
      "==================================================\n",
      "This is strong Breakfast Tea. You can get a second cup from one bag.  The flavor is very satisfying.  True English taste.\n",
      "==================================================\n",
      "Great coffee at a great price!!  We were skeptical at first because it was inexpensive but this did not disappoint!  A bold flavored choice.\n",
      "==================================================\n"
     ]
    }
   ],
   "source": [
    "# printing some random reviews\n",
    "sent_0 = final['Text'].values[0]\n",
    "print(sent_0)\n",
    "print(\"=\"*50)\n",
    "\n",
    "sent_1000 = final['Text'].values[1000]\n",
    "print(sent_1000)\n",
    "print(\"=\"*50)\n",
    "\n",
    "sent_1500 = final['Text'].values[1500]\n",
    "print(sent_1500)\n",
    "print(\"=\"*50)\n",
    "\n",
    "sent_4900 = final['Text'].values[4900]\n",
    "print(sent_4900)\n",
    "print(\"=\"*50)\n",
    "\n",
    "sent_12500 = final['Text'].values[12500]\n",
    "print(sent_12500)\n",
    "print(\"=\"*50)\n",
    "\n",
    "sent_85000 = final['Text'].values[85000]\n",
    "print(sent_85000)\n",
    "print(\"=\"*50)"
   ]
  },
  {
   "cell_type": "code",
   "execution_count": 220,
   "metadata": {},
   "outputs": [
    {
     "name": "stdout",
     "output_type": "stream",
     "text": [
      "My dogs loves this chicken but its a product from China, so we wont be buying it anymore.  Its very hard to find any chicken products made in the USA but they are out there, but this one isnt.  Its too bad too because its a good product but I wont take any chances till they know what is going on with the china imports.\n"
     ]
    }
   ],
   "source": [
    "# remove urls from text python: https://stackoverflow.com/a/40823105/4084039\n",
    "sent_0 = re.sub(r\"http\\S+\", \"\", sent_0)\n",
    "sent_1000 = re.sub(r\"http\\S+\", \"\", sent_1000)\n",
    "sent_150 = re.sub(r\"http\\S+\", \"\", sent_1500)\n",
    "sent_4900 = re.sub(r\"http\\S+\", \"\", sent_4900)\n",
    "sent_12500 = re.sub(r\"http\\S+\", \"\", sent_12500)\n",
    "sent_85000 = re.sub(r\"http\\S+\", \"\", sent_85000)\n",
    "\n",
    "print(sent_0)"
   ]
  },
  {
   "cell_type": "code",
   "execution_count": 221,
   "metadata": {},
   "outputs": [
    {
     "name": "stdout",
     "output_type": "stream",
     "text": [
      "My dogs loves this chicken but its a product from China, so we wont be buying it anymore.  Its very hard to find any chicken products made in the USA but they are out there, but this one isnt.  Its too bad too because its a good product but I wont take any chances till they know what is going on with the china imports.\n",
      "==================================================\n",
      "The Candy Blocks were a nice visual for the Lego Birthday party but the candy has little taste to it.  Very little of the 2 lbs that I bought were eaten and I threw the rest away.  I would not buy the candy again.\n",
      "==================================================\n",
      "was way to hot for my blood, took a bite and did a jig  lol\n",
      "==================================================\n",
      "My dog LOVES these treats. They tend to have a very strong fish oil smell. So if you are afraid of the fishy smell, don't get it. But I think my dog likes it because of the smell. These treats are really small in size. They are great for training. You can give your dog several of these without worrying about him over eating. Amazon's price was much more reasonable than any other retailer. You can buy a 1 pound bag on Amazon for almost the same price as a 6 ounce bag at other retailers. It's definitely worth it to buy a big bag if your dog eats them a lot.\n",
      "This is strong Breakfast Tea. You can get a second cup from one bag.  The flavor is very satisfying.  True English taste.\n",
      "Great coffee at a great price!!  We were skeptical at first because it was inexpensive but this did not disappoint!  A bold flavored choice.\n"
     ]
    }
   ],
   "source": [
    "# https://stackoverflow.com/questions/16206380/python-beautifulsoup-how-to-remove-all-tags-from-an-element\n",
    "from bs4 import BeautifulSoup\n",
    "\n",
    "soup = BeautifulSoup(sent_0, 'lxml')\n",
    "text = soup.get_text()\n",
    "print(text)\n",
    "print(\"=\"*50)\n",
    "\n",
    "soup = BeautifulSoup(sent_1000, 'lxml')\n",
    "text = soup.get_text()\n",
    "print(text)\n",
    "print(\"=\"*50)\n",
    "\n",
    "soup = BeautifulSoup(sent_1500, 'lxml')\n",
    "text = soup.get_text()\n",
    "print(text)\n",
    "print(\"=\"*50)\n",
    "\n",
    "soup = BeautifulSoup(sent_4900, 'lxml')\n",
    "text = soup.get_text()\n",
    "print(text)\n",
    "\n",
    "soup = BeautifulSoup(sent_12500, 'lxml')\n",
    "text = soup.get_text()\n",
    "print(text)\n",
    "\n",
    "soup = BeautifulSoup(sent_85000, 'lxml')\n",
    "text = soup.get_text()\n",
    "print(text)"
   ]
  },
  {
   "cell_type": "code",
   "execution_count": 222,
   "metadata": {},
   "outputs": [],
   "source": [
    "# https://stackoverflow.com/a/47091490/4084039\n",
    "import re\n",
    "\n",
    "def decontracted(phrase):\n",
    "    # specific\n",
    "    phrase = re.sub(r\"won't\", \"will not\", phrase)\n",
    "    phrase = re.sub(r\"can\\'t\", \"can not\", phrase)\n",
    "\n",
    "    # general\n",
    "    phrase = re.sub(r\"n\\'t\", \" not\", phrase)\n",
    "    phrase = re.sub(r\"\\'re\", \" are\", phrase)\n",
    "    phrase = re.sub(r\"\\'s\", \" is\", phrase)\n",
    "    phrase = re.sub(r\"\\'d\", \" would\", phrase)\n",
    "    phrase = re.sub(r\"\\'ll\", \" will\", phrase)\n",
    "    phrase = re.sub(r\"\\'t\", \" not\", phrase)\n",
    "    phrase = re.sub(r\"\\'ve\", \" have\", phrase)\n",
    "    phrase = re.sub(r\"\\'m\", \" am\", phrase)\n",
    "    return phrase"
   ]
  },
  {
   "cell_type": "code",
   "execution_count": 223,
   "metadata": {},
   "outputs": [
    {
     "name": "stdout",
     "output_type": "stream",
     "text": [
      "Great coffee at a great price!!  We were skeptical at first because it was inexpensive but this did not disappoint!  A bold flavored choice.\n",
      "==================================================\n"
     ]
    }
   ],
   "source": [
    "sent_85000 = decontracted(sent_85000)\n",
    "print(sent_85000)\n",
    "print(\"=\"*50)"
   ]
  },
  {
   "cell_type": "code",
   "execution_count": 224,
   "metadata": {},
   "outputs": [
    {
     "name": "stdout",
     "output_type": "stream",
     "text": [
      "My dogs loves this chicken but its a product from China, so we wont be buying it anymore.  Its very hard to find any chicken products made in the USA but they are out there, but this one isnt.  Its too bad too because its a good product but I wont take any chances till they know what is going on with the china imports.\n"
     ]
    }
   ],
   "source": [
    "#remove words with numbers python: https://stackoverflow.com/a/18082370/4084039\n",
    "sent_0 = re.sub(\"\\S*\\d\\S*\", \"\", sent_0).strip()\n",
    "print(sent_0)"
   ]
  },
  {
   "cell_type": "code",
   "execution_count": 225,
   "metadata": {},
   "outputs": [
    {
     "name": "stdout",
     "output_type": "stream",
     "text": [
      "Great coffee at a great price We were skeptical at first because it was inexpensive but this did not disappoint A bold flavored choice \n"
     ]
    }
   ],
   "source": [
    "#remove spacial character: https://stackoverflow.com/a/5843547/4084039\n",
    "sent_85000 = re.sub('[^A-Za-z0-9]+', ' ', sent_85000)\n",
    "print(sent_85000)"
   ]
  },
  {
   "cell_type": "code",
   "execution_count": 226,
   "metadata": {},
   "outputs": [],
   "source": [
    "# https://gist.github.com/sebleier/554280\n",
    "# we are removing the words from the stop words list: 'no', 'nor', 'not'\n",
    "# <br /><br /> ==> after the above steps, we are getting \"br br\"\n",
    "# we are including them into stop words list\n",
    "# instead of <br /> if we have <br/> these tags would have revmoved in the 1st step\n",
    "\n",
    "stopwords= set(['br', 'the', 'i', 'me', 'my', 'myself', 'we', 'our', 'ours', 'ourselves', 'you', \"you're\", \"you've\",\\\n",
    "            \"you'll\", \"you'd\", 'your', 'yours', 'yourself', 'yourselves', 'he', 'him', 'his', 'himself', \\\n",
    "            'she', \"she's\", 'her', 'hers', 'herself', 'it', \"it's\", 'its', 'itself', 'they', 'them', 'their',\\\n",
    "            'theirs', 'themselves', 'what', 'which', 'who', 'whom', 'this', 'that', \"that'll\", 'these', 'those', \\\n",
    "            'am', 'is', 'are', 'was', 'were', 'be', 'been', 'being', 'have', 'has', 'had', 'having', 'do', 'does', \\\n",
    "            'did', 'doing', 'a', 'an', 'the', 'and', 'but', 'if', 'or', 'because', 'as', 'until', 'while', 'of', \\\n",
    "            'at', 'by', 'for', 'with', 'about', 'against', 'between', 'into', 'through', 'during', 'before', 'after',\\\n",
    "            'above', 'below', 'to', 'from', 'up', 'down', 'in', 'out', 'on', 'off', 'over', 'under', 'again', 'further',\\\n",
    "            'then', 'once', 'here', 'there', 'when', 'where', 'why', 'how', 'all', 'any', 'both', 'each', 'few', 'more',\\\n",
    "            'most', 'other', 'some', 'such', 'only', 'own', 'same', 'so', 'than', 'too', 'very', \\\n",
    "            's', 't', 'can', 'will', 'just', 'don', \"don't\", 'should', \"should've\", 'now', 'd', 'll', 'm', 'o', 're', \\\n",
    "            've', 'y', 'ain', 'aren', \"aren't\", 'couldn', \"couldn't\", 'didn', \"didn't\", 'doesn', \"doesn't\", 'hadn',\\\n",
    "            \"hadn't\", 'hasn', \"hasn't\", 'haven', \"haven't\", 'isn', \"isn't\", 'ma', 'mightn', \"mightn't\", 'mustn',\\\n",
    "            \"mustn't\", 'needn', \"needn't\", 'shan', \"shan't\", 'shouldn', \"shouldn't\", 'wasn', \"wasn't\", 'weren', \"weren't\", \\\n",
    "            'won', \"won't\", 'wouldn', \"wouldn't\"])"
   ]
  },
  {
   "cell_type": "code",
   "execution_count": 227,
   "metadata": {},
   "outputs": [
    {
     "name": "stderr",
     "output_type": "stream",
     "text": [
      "100%|███████████████████████████████████████████████████████████████████████████| 87773/87773 [02:15<00:00, 648.11it/s]\n"
     ]
    }
   ],
   "source": [
    "# Combining all the above stundents \n",
    "from tqdm import tqdm\n",
    "preprocessed_reviews = []\n",
    "# tqdm is for printing the status bar\n",
    "for sentance in tqdm(final['Text'].values):\n",
    "    sentance = re.sub(r\"http\\S+\", \"\", sentance)\n",
    "    sentance = BeautifulSoup(sentance, 'lxml').get_text()\n",
    "    sentance = decontracted(sentance)\n",
    "    sentance = re.sub(\"\\S*\\d\\S*\", \"\", sentance).strip()\n",
    "    sentance = re.sub('[^A-Za-z]+', ' ', sentance)\n",
    "    # https://gist.github.com/sebleier/554280\n",
    "    sentance = ' '.join(e.lower() for e in sentance.split() if e.lower() not in stopwords)\n",
    "    preprocessed_reviews.append(sentance.strip())"
   ]
  },
  {
   "cell_type": "code",
   "execution_count": 228,
   "metadata": {},
   "outputs": [
    {
     "data": {
      "text/plain": [
       "'great coffee great price skeptical first inexpensive not disappoint bold flavored choice'"
      ]
     },
     "execution_count": 228,
     "metadata": {},
     "output_type": "execute_result"
    }
   ],
   "source": [
    "preprocessed_reviews[85000]"
   ]
  },
  {
   "cell_type": "markdown",
   "metadata": {},
   "source": [
    "<h2><font color='red'>[3.2] Preprocessing Review Summary</font></h2>"
   ]
  },
  {
   "cell_type": "code",
   "execution_count": 229,
   "metadata": {},
   "outputs": [],
   "source": [
    "## Similartly you can do preprocessing for review summary also.\n",
    "#Sorting data according to Time in ascending order for Time Based Splitting\n",
    "data = final.sort_values('Time', axis=0, ascending=True, inplace=False, kind='quicksort', na_position='last')\n",
    "\n",
    "\n",
    "# Collecting 100k rows without repetition from time_sorted_data dataframe\n",
    "my_final = data.take(np.random.permutation(len(final))[:100000])\n",
    "#print(my_final.shape)\n",
    "# To get 2k +ve and 2k -ve reviews randomly.\n",
    "#data_pos = data[data[\"Score\"] == 1].sample(n = 200)\n",
    "#data_neg = data[data[\"Score\"] == 0].sample(n = 200)\n",
    "#my_final = pd.concat([data_pos, data_neg])\n",
    "\n",
    "#x = my_final['CleanedText'].values"
   ]
  },
  {
   "cell_type": "code",
   "execution_count": 230,
   "metadata": {},
   "outputs": [],
   "source": [
    "from sklearn.model_selection import train_test_split\n",
    "x = my_final['Text'].values\n",
    "y = my_final['Score']"
   ]
  },
  {
   "cell_type": "code",
   "execution_count": 231,
   "metadata": {},
   "outputs": [],
   "source": [
    "# split the data set into train and test\n",
    "X_train, X_test, y_train, y_test = train_test_split(x, y, test_size=0.3, random_state=0)\n",
    "X_train, X_cv, y_train, y_cv = train_test_split(X_train, y_train, test_size=0.3)"
   ]
  },
  {
   "cell_type": "markdown",
   "metadata": {},
   "source": [
    "# [4] Featurization"
   ]
  },
  {
   "cell_type": "markdown",
   "metadata": {},
   "source": [
    "### Linear SVM"
   ]
  },
  {
   "cell_type": "markdown",
   "metadata": {},
   "source": [
    "### Applying Linear SVM on BOW, SET 1"
   ]
  },
  {
   "cell_type": "code",
   "execution_count": 232,
   "metadata": {},
   "outputs": [],
   "source": [
    "#BoW\n",
    "count_vect = CountVectorizer(max_features = 5000,min_df = 10) #in scikit-learn\n",
    "#count_vect.fit(my_final)\n",
    "#print(\"some feature names \", count_vect.get_feature_names()[:10])\n",
    "#print('='*50)\n",
    "\n",
    "#final_counts = count_vect.transform(my_final)\n",
    "#print(\"the type of count vectorizer \",type(final_counts))\n",
    "#print(\"the shape of out text BOW vectorizer \",final_counts.get_shape())\n",
    "#print(\"the number of unique words \", final_counts.get_shape()[1])\n",
    "\n",
    "\n",
    "X_train    = count_vect.fit_transform(X_train)\n",
    "X_cv       = count_vect.transform(X_cv)\n",
    "X_test     = count_vect.transform(X_test)"
   ]
  },
  {
   "cell_type": "markdown",
   "metadata": {},
   "source": [
    "### L1 reg"
   ]
  },
  {
   "cell_type": "code",
   "execution_count": 233,
   "metadata": {},
   "outputs": [
    {
     "data": {
      "image/png": "[encoded data removed]",
      "text/plain": [
       "<Figure size 432x288 with 1 Axes>"
      ]
     },
     "metadata": {},
     "output_type": "display_data"
    }
   ],
   "source": [
    "from sklearn.linear_model import SGDClassifier\n",
    "from sklearn.svm import SVC\n",
    "from sklearn.metrics import roc_curve, auc\n",
    "from sklearn.metrics import roc_auc_score\n",
    "from matplotlib.legend_handler import HandlerLine2D\n",
    "from sklearn.calibration import CalibratedClassifierCV\n",
    "c_values = []\n",
    "alpha        = 0.0001\n",
    "while(alpha <= 1):\n",
    "    c_values.append(np.round(alpha,4))\n",
    "    alpha *= 10\n",
    "    \n",
    "train_pred = []\n",
    "cv_pred    = []\n",
    "for C in c_values:\n",
    "    model = SGDClassifier(alpha = C,class_weight = 'balanced',loss = 'hinge',penalty = 'l1',random_state=0) \n",
    "    #model.fit(X_train, y_train)\n",
    "    model = CalibratedClassifierCV(model, method='sigmoid')\n",
    "    model.fit(X_train, y_train)\n",
    "    \n",
    "    #train \n",
    "    train_pre = model.predict_proba(X_train)[:,1]\n",
    "    roc_auc    =  roc_auc_score(y_train, train_pre)\n",
    "    #np.append(train_pred,roc_auc) \n",
    "    train_pred.append(roc_auc)\n",
    "    \n",
    "    \n",
    "    #cross val\n",
    "    cv_pre    = model.predict_proba(X_cv)[:,1]\n",
    "    roc_auc2    =  roc_auc_score(y_cv, cv_pre)\n",
    "    #np.append(cv_pred,roc_auc2)\n",
    "    cv_pred.append(roc_auc2)\n",
    "\n",
    "plt.plot(c_values, train_pred, 'b', label = \"Train AUC\")\n",
    "plt.plot(c_values, cv_pred, 'r', label = \"cross val\")\n",
    "\n",
    "plt.legend()\n",
    "plt.ylabel('AUC score')\n",
    "plt.xlabel('alpha')\n",
    "plt.show()"
   ]
  },
  {
   "cell_type": "code",
   "execution_count": 234,
   "metadata": {},
   "outputs": [
    {
     "name": "stdout",
     "output_type": "stream",
     "text": [
      "The optimal alpha value is:  1\n"
     ]
    }
   ],
   "source": [
    "a = 0\n",
    "for i in range(len(cv_pred)):\n",
    "    if(cv_pred[i]> cv_pred[a]):\n",
    "        a = i\n",
    "opt_alpha = a*2 + 1  \n",
    "print(\"The optimal alpha value is: \", opt_alpha)"
   ]
  },
  {
   "cell_type": "code",
   "execution_count": 239,
   "metadata": {},
   "outputs": [
    {
     "data": {
      "text/plain": [
       "CalibratedClassifierCV(base_estimator=SGDClassifier(alpha=1, average=False,\n",
       "                                                    class_weight='balanced',\n",
       "                                                    early_stopping=False,\n",
       "                                                    epsilon=0.1, eta0=0.0,\n",
       "                                                    fit_intercept=True,\n",
       "                                                    l1_ratio=0.15,\n",
       "                                                    learning_rate='optimal',\n",
       "                                                    loss='hinge', max_iter=1000,\n",
       "                                                    n_iter_no_change=5,\n",
       "                                                    n_jobs=None, penalty='l1',\n",
       "                                                    power_t=0.5,\n",
       "                                                    random_state=None,\n",
       "                                                    shuffle=True, tol=0.001,\n",
       "                                                    validation_fraction=0.1,\n",
       "                                                    verbose=0,\n",
       "                                                    warm_start=False),\n",
       "                       cv='warn', method='sigmoid')"
      ]
     },
     "execution_count": 239,
     "metadata": {},
     "output_type": "execute_result"
    }
   ],
   "source": [
    "model = SGDClassifier(alpha = opt_alpha, class_weight = 'balanced',loss = 'hinge',penalty = 'l1')\n",
    "#model.fit(X_train, y_train)\n",
    "model = CalibratedClassifierCV(model, method='sigmoid')\n",
    "model.fit(X_train, y_train)"
   ]
  },
  {
   "cell_type": "code",
   "execution_count": 238,
   "metadata": {},
   "outputs": [
    {
     "data": {
      "image/png": "[encoded data removed]",
      "text/plain": [
       "<Figure size 432x288 with 1 Axes>"
      ]
     },
     "metadata": {},
     "output_type": "display_data"
    }
   ],
   "source": [
    "tra_pred = model.predict_proba(X_train)[:,1]\n",
    "fpr, tpr, thresholds = roc_curve(y_train,tra_pred)\n",
    "roc_auc = auc(fpr, tpr)\n",
    "\n",
    "test_pred = model.predict_proba(X_test)[:,1]\n",
    "fpr2, tpr2, thresholds2 = roc_curve(y_test,test_pred)\n",
    "roc_auc2 = auc(fpr2, tpr2)\n",
    "\n",
    "plt.title('Receiver Operating Characteristic')\n",
    "plt.plot(fpr, tpr, 'b',label='Train AUC = %0.2f'% roc_auc)\n",
    "plt.plot(fpr2, tpr2, 'r',label='Test AUC = %0.2f'% roc_auc2)\n",
    "plt.legend(loc='lower right')\n",
    "plt.plot([0,1],[0,1],'g--')\n",
    "#plt.xlim([-0.1,1.2])\n",
    "#plt.ylim([-0.1,1.2])\n",
    "plt.ylabel('True Positive Rate')\n",
    "plt.xlabel('False Positive Rate')\n",
    "plt.show()"
   ]
  },
  {
   "cell_type": "code",
   "execution_count": 244,
   "metadata": {},
   "outputs": [],
   "source": [
    "model = SGDClassifier(class_weight = 'balanced',loss = 'hinge',penalty = 'l1')\n",
    "#model = CalibratedClassifierCV(model, method='sigmoid')\n",
    "model.fit(X_train, y_train)\n",
    "prediction = model.predict(X_test)"
   ]
  },
  {
   "cell_type": "code",
   "execution_count": 245,
   "metadata": {},
   "outputs": [],
   "source": [
    "bow_features = count_vect.get_feature_names()\n",
    "log_prob = model.coef_ \n",
    "feature_prob = pd.DataFrame(log_prob, columns = bow_features)\n",
    "feature_prob_tr = feature_prob.T\n",
    "#feature_prob_tr.shape"
   ]
  },
  {
   "cell_type": "code",
   "execution_count": 246,
   "metadata": {},
   "outputs": [
    {
     "name": "stdout",
     "output_type": "stream",
     "text": [
      "Classification Report: \n",
      "\n",
      "              precision    recall  f1-score   support\n",
      "\n",
      "           0       0.57      0.83      0.68      4235\n",
      "           1       0.96      0.88      0.92     22097\n",
      "\n",
      "    accuracy                           0.87     26332\n",
      "   macro avg       0.77      0.85      0.80     26332\n",
      "weighted avg       0.90      0.87      0.88     26332\n",
      "\n"
     ]
    }
   ],
   "source": [
    "from sklearn.metrics import classification_report\n",
    "print(\"Classification Report: \\n\")\n",
    "print(classification_report(y_test, prediction))"
   ]
  },
  {
   "cell_type": "code",
   "execution_count": 247,
   "metadata": {},
   "outputs": [
    {
     "data": {
      "image/png": "[encoded data removed]",
      "text/plain": [
       "<Figure size 432x288 with 2 Axes>"
      ]
     },
     "metadata": {},
     "output_type": "display_data"
    }
   ],
   "source": [
    "import seaborn as sb\n",
    "conf_matrix = confusion_matrix(y_test, prediction)\n",
    "class_label = ['negative', 'positive']\n",
    "df_conf_matrix = pd.DataFrame(\n",
    "    conf_matrix, index=class_label, columns=class_label)\n",
    "sb.heatmap(df_conf_matrix, annot=True, fmt='d')\n",
    "plt.title(\"Confusion Matrix\")\n",
    "plt.xlabel(\"Predicted\")\n",
    "plt.ylabel(\"Actual\")\n",
    "plt.show()"
   ]
  },
  {
   "cell_type": "markdown",
   "metadata": {},
   "source": [
    "### L2 reg"
   ]
  },
  {
   "cell_type": "code",
   "execution_count": 248,
   "metadata": {},
   "outputs": [
    {
     "data": {
      "image/png": "[encoded data removed]",
      "text/plain": [
       "<Figure size 432x288 with 1 Axes>"
      ]
     },
     "metadata": {},
     "output_type": "display_data"
    }
   ],
   "source": [
    "\n",
    "c_values = []\n",
    "alpha        = 0.0001\n",
    "while(alpha <= 100):\n",
    "    c_values.append(np.round(alpha,4))\n",
    "    alpha *= 10\n",
    "    \n",
    "train_pred = []\n",
    "cv_pred    = []\n",
    "for C in c_values:\n",
    "    model = SGDClassifier(alpha = C,class_weight = 'balanced', loss = 'hinge',penalty = 'l2')\n",
    "    model = CalibratedClassifierCV(model, method='sigmoid')\n",
    "    model.fit(X_train, y_train)\n",
    "    \n",
    "    #train \n",
    "    train_pre = model.predict_proba(X_train)[:,1]\n",
    "    roc_auc    =  roc_auc_score(y_train, train_pre)\n",
    "    #np.append(train_pred,roc_auc) \n",
    "    train_pred.append(roc_auc)\n",
    "    \n",
    "    \n",
    "    #cross val\n",
    "    cv_pre    = model.predict_proba(X_cv)[:,1]\n",
    "    roc_auc2    =  roc_auc_score(y_cv, cv_pre)\n",
    "    #np.append(cv_pred,roc_auc2)\n",
    "    cv_pred.append(roc_auc2)\n",
    "\n",
    "plt.plot(c_values, train_pred, 'b', label = \"Train AUC\")\n",
    "plt.plot(c_values, cv_pred, 'r', label = \"cross val\")\n",
    "\n",
    "plt.legend()\n",
    "\n",
    "plt.ylabel('AUC score')\n",
    "plt.xlabel('alpha')\n",
    "plt.show()\n"
   ]
  },
  {
   "cell_type": "code",
   "execution_count": 249,
   "metadata": {},
   "outputs": [
    {
     "name": "stdout",
     "output_type": "stream",
     "text": [
      "The optimal k value is:  3\n"
     ]
    }
   ],
   "source": [
    "a = 0\n",
    "for i in range(len(cv_pred)):\n",
    "    if(cv_pred[i]> cv_pred[a]):\n",
    "        a = i\n",
    "opt_alpha = a*2 + 1  \n",
    "print(\"The optimal k value is: \", opt_alpha)"
   ]
  },
  {
   "cell_type": "code",
   "execution_count": 250,
   "metadata": {},
   "outputs": [
    {
     "data": {
      "text/plain": [
       "CalibratedClassifierCV(base_estimator=SGDClassifier(alpha=0.0001, average=False,\n",
       "                                                    class_weight='balanced',\n",
       "                                                    early_stopping=False,\n",
       "                                                    epsilon=0.1, eta0=0.0,\n",
       "                                                    fit_intercept=True,\n",
       "                                                    l1_ratio=0.15,\n",
       "                                                    learning_rate='optimal',\n",
       "                                                    loss='hinge', max_iter=1000,\n",
       "                                                    n_iter_no_change=5,\n",
       "                                                    n_jobs=None, penalty='l2',\n",
       "                                                    power_t=0.5,\n",
       "                                                    random_state=None,\n",
       "                                                    shuffle=True, tol=0.001,\n",
       "                                                    validation_fraction=0.1,\n",
       "                                                    verbose=0,\n",
       "                                                    warm_start=False),\n",
       "                       cv='warn', method='sigmoid')"
      ]
     },
     "execution_count": 250,
     "metadata": {},
     "output_type": "execute_result"
    }
   ],
   "source": [
    "model = SGDClassifier(class_weight = 'balanced',loss = 'hinge',penalty = 'l2')\n",
    "model = CalibratedClassifierCV(model, method='sigmoid')\n",
    "model.fit(X_train, y_train)"
   ]
  },
  {
   "cell_type": "code",
   "execution_count": 251,
   "metadata": {},
   "outputs": [
    {
     "data": {
      "image/png": "[encoded data removed]",
      "text/plain": [
       "<Figure size 432x288 with 1 Axes>"
      ]
     },
     "metadata": {},
     "output_type": "display_data"
    }
   ],
   "source": [
    "tra_pred = model.predict_proba(X_train)[:,1]\n",
    "fpr, tpr, thresholds = roc_curve(y_train,tra_pred)\n",
    "roc_auc = auc(fpr, tpr)\n",
    "\n",
    "test_pred = model.predict_proba(X_test)[:,1]\n",
    "fpr2, tpr2, thresholds2 = roc_curve(y_test,test_pred)\n",
    "roc_auc2 = auc(fpr2, tpr2)\n",
    "\n",
    "plt.title('Receiver Operating Characteristic')\n",
    "plt.plot(fpr, tpr, 'b',label='Train AUC = %0.2f'% roc_auc)\n",
    "plt.plot(fpr2, tpr2, 'r',label='Test AUC = %0.2f'% roc_auc2)\n",
    "plt.legend(loc='lower right')\n",
    "plt.plot([0,1],[0,1],'g--')\n",
    "#plt.xlim([-0.1,1.2])\n",
    "#plt.ylim([-0.1,1.2])\n",
    "plt.ylabel('True Positive Rate')\n",
    "plt.xlabel('False Positive Rate')\n",
    "plt.show()"
   ]
  },
  {
   "cell_type": "code",
   "execution_count": 252,
   "metadata": {},
   "outputs": [],
   "source": [
    "model = SGDClassifier(class_weight = 'balanced', loss = 'hinge',penalty = 'l2')\n",
    "model.fit(X_train, y_train)\n",
    "prediction = model.predict(X_test)"
   ]
  },
  {
   "cell_type": "code",
   "execution_count": 253,
   "metadata": {},
   "outputs": [],
   "source": [
    "bow_features = count_vect.get_feature_names()\n",
    "log_prob = model.coef_ \n",
    "feature_prob = pd.DataFrame(log_prob, columns = bow_features)\n",
    "feature_prob_tr = feature_prob.T\n",
    "#feature_prob_tr.shape"
   ]
  },
  {
   "cell_type": "code",
   "execution_count": 254,
   "metadata": {},
   "outputs": [
    {
     "name": "stdout",
     "output_type": "stream",
     "text": [
      "Classification Report: \n",
      "\n",
      "              precision    recall  f1-score   support\n",
      "\n",
      "           0       0.60      0.85      0.70      4235\n",
      "           1       0.97      0.89      0.93     22097\n",
      "\n",
      "    accuracy                           0.88     26332\n",
      "   macro avg       0.78      0.87      0.81     26332\n",
      "weighted avg       0.91      0.88      0.89     26332\n",
      "\n"
     ]
    }
   ],
   "source": [
    "print(\"Classification Report: \\n\")\n",
    "print(classification_report(y_test, prediction))"
   ]
  },
  {
   "cell_type": "code",
   "execution_count": 255,
   "metadata": {},
   "outputs": [
    {
     "data": {
      "image/png": "[encoded data removed]",
      "text/plain": [
       "<Figure size 432x288 with 2 Axes>"
      ]
     },
     "metadata": {},
     "output_type": "display_data"
    }
   ],
   "source": [
    "conf_matrix = confusion_matrix(y_test, prediction)\n",
    "class_label = ['negative', 'positive']\n",
    "df_conf_matrix = pd.DataFrame(\n",
    "    conf_matrix, index=class_label, columns=class_label)\n",
    "sb.heatmap(df_conf_matrix, annot=True, fmt='d')\n",
    "plt.title(\"Confusion Matrix\")\n",
    "plt.xlabel(\"Predicted\")\n",
    "plt.ylabel(\"Actual\")\n",
    "plt.show()"
   ]
  },
  {
   "cell_type": "markdown",
   "metadata": {},
   "source": [
    "### Feature Importance"
   ]
  },
  {
   "cell_type": "code",
   "execution_count": 256,
   "metadata": {},
   "outputs": [
    {
     "name": "stdout",
     "output_type": "stream",
     "text": [
      "Top 10 Negative Features:-\n",
      " pleasantly    1.993185\n",
      "amazing       1.827741\n",
      "satisfied     1.742338\n",
      "yummy         1.725189\n",
      "amazed        1.640647\n",
      "beat          1.622002\n",
      "delicious     1.586123\n",
      "excellent     1.569802\n",
      "skeptical     1.536472\n",
      "complaint     1.536409\n",
      "Name: 0, dtype: float64\n",
      "\n",
      "\n",
      " Top 10 Positive Features:-\n",
      " worst            -2.491368\n",
      "terrible         -1.955934\n",
      "shame            -1.881394\n",
      "disappointing    -1.781743\n",
      "hopes            -1.739343\n",
      "awful            -1.723006\n",
      "horrible         -1.701307\n",
      "disappointment   -1.663976\n",
      "cancelled        -1.660816\n",
      "distilled        -1.617559\n",
      "Name: 0, dtype: float64\n"
     ]
    }
   ],
   "source": [
    "# To show top 10 feature from both class\n",
    "# Feature Importance\n",
    "print(\"Top 10 Negative Features:-\\n\",feature_prob_tr[0].sort_values(ascending = False)[0:10])\n",
    "print(\"\\n\\n Top 10 Positive Features:-\\n\",feature_prob_tr[1].sort_values(ascending = True)[0:10])"
   ]
  },
  {
   "cell_type": "markdown",
   "metadata": {},
   "source": [
    "### Applying Linear SVM on TFIDF, SET 2"
   ]
  },
  {
   "cell_type": "code",
   "execution_count": 257,
   "metadata": {},
   "outputs": [],
   "source": [
    "# split the data set into train and test\n",
    "X_train, X_test, y_train, y_test = train_test_split(x, y, test_size=0.3, random_state=0)\n",
    "X_train, X_cv, y_train, y_cv = train_test_split(X_train, y_train, test_size=0.3)"
   ]
  },
  {
   "cell_type": "code",
   "execution_count": 258,
   "metadata": {},
   "outputs": [],
   "source": [
    "# Initializing tfidf vectorizer\n",
    "tfidf_vect = TfidfVectorizer(ngram_range=(1, 2), min_df=10)\n",
    "\n",
    "# Fitting for tfidf vectorization\n",
    "X_train = tfidf_vect.fit_transform(X_train)\n",
    "X_cv = tfidf_vect.transform(X_cv)\n",
    "X_test = tfidf_vect.transform(X_test)\n",
    "\n",
    "\n",
    "#print(\"the type of count vectorizer \",type(final_tf_idf))\n",
    "#print(\"the shape of out text TFIDF vectorizer \",final_tf_idf.get_shape())\n",
    "#print(\"the number of unique words including both unigrams and bigrams \", final_tf_idf.get_shape()[1])"
   ]
  },
  {
   "cell_type": "markdown",
   "metadata": {},
   "source": [
    "### L1 reg"
   ]
  },
  {
   "cell_type": "code",
   "execution_count": 260,
   "metadata": {},
   "outputs": [
    {
     "data": {
      "image/png": "[encoded data removed]",
      "text/plain": [
       "<Figure size 432x288 with 1 Axes>"
      ]
     },
     "metadata": {},
     "output_type": "display_data"
    }
   ],
   "source": [
    "\n",
    "c_values = []\n",
    "alpha        = 0.0001\n",
    "while(alpha <= 1):\n",
    "    c_values.append(np.round(alpha,4))\n",
    "    alpha *= 10\n",
    "    \n",
    "train_pred = []\n",
    "cv_pred    = []\n",
    "for C in c_values:\n",
    "    model = SGDClassifier(alpha = C,class_weight = 'balanced', loss = 'hinge',penalty = 'l1')\n",
    "    model = CalibratedClassifierCV(model, method='sigmoid')\n",
    "    model.fit(X_train, y_train)\n",
    "    \n",
    "    #train \n",
    "    train_pre = model.predict_proba(X_train)[:,1]\n",
    "    roc_auc    =  roc_auc_score(y_train, train_pre)\n",
    "    #np.append(train_pred,roc_auc) \n",
    "    train_pred.append(roc_auc)\n",
    "    \n",
    "    \n",
    "    #cross val\n",
    "    cv_pre    = model.predict_proba(X_cv)[:,1]\n",
    "    roc_auc2    =  roc_auc_score(y_cv, cv_pre)\n",
    "    #np.append(cv_pred,roc_auc2)\n",
    "    cv_pred.append(roc_auc2)\n",
    "\n",
    "plt.plot(c_values, train_pred, 'b', label = \"Train AUC\")\n",
    "plt.plot(c_values, cv_pred, 'r', label = \"cross val\")\n",
    "\n",
    "plt.legend()\n",
    "\n",
    "plt.ylabel('AUC score')\n",
    "plt.xlabel('alpha')\n",
    "plt.show()\n"
   ]
  },
  {
   "cell_type": "code",
   "execution_count": 261,
   "metadata": {},
   "outputs": [
    {
     "name": "stdout",
     "output_type": "stream",
     "text": [
      "The optimal k value is:  1\n"
     ]
    }
   ],
   "source": [
    "a = 0\n",
    "for i in range(len(cv_pred)):\n",
    "    if(cv_pred[i]> cv_pred[a]):\n",
    "        a = i\n",
    "opt_alpha = a*2 + 1  \n",
    "print(\"The optimal k value is: \", opt_alpha)"
   ]
  },
  {
   "cell_type": "code",
   "execution_count": 262,
   "metadata": {},
   "outputs": [
    {
     "data": {
      "text/plain": [
       "CalibratedClassifierCV(base_estimator=SGDClassifier(alpha=0.0001, average=False,\n",
       "                                                    class_weight='balanced',\n",
       "                                                    early_stopping=False,\n",
       "                                                    epsilon=0.1, eta0=0.0,\n",
       "                                                    fit_intercept=True,\n",
       "                                                    l1_ratio=0.15,\n",
       "                                                    learning_rate='optimal',\n",
       "                                                    loss='hinge', max_iter=1000,\n",
       "                                                    n_iter_no_change=5,\n",
       "                                                    n_jobs=None, penalty='l2',\n",
       "                                                    power_t=0.5,\n",
       "                                                    random_state=None,\n",
       "                                                    shuffle=True, tol=0.001,\n",
       "                                                    validation_fraction=0.1,\n",
       "                                                    verbose=0,\n",
       "                                                    warm_start=False),\n",
       "                       cv='warn', method='sigmoid')"
      ]
     },
     "execution_count": 262,
     "metadata": {},
     "output_type": "execute_result"
    }
   ],
   "source": [
    "model = SGDClassifier(class_weight = 'balanced',loss = 'hinge',penalty = 'l2')\n",
    "model = CalibratedClassifierCV(model, method='sigmoid')\n",
    "model.fit(X_train, y_train)"
   ]
  },
  {
   "cell_type": "code",
   "execution_count": 263,
   "metadata": {},
   "outputs": [
    {
     "data": {
      "image/png": "[encoded data removed]",
      "text/plain": [
       "<Figure size 432x288 with 1 Axes>"
      ]
     },
     "metadata": {},
     "output_type": "display_data"
    }
   ],
   "source": [
    "tra_pred = model.predict_proba(X_train)[:,1]\n",
    "fpr, tpr, thresholds = roc_curve(y_train,tra_pred)\n",
    "roc_auc = auc(fpr, tpr)\n",
    "\n",
    "test_pred = model.predict_proba(X_test)[:,1]\n",
    "fpr2, tpr2, thresholds2 = roc_curve(y_test,test_pred)\n",
    "roc_auc2 = auc(fpr2, tpr2)\n",
    "\n",
    "plt.title('Receiver Operating Characteristic')\n",
    "plt.plot(fpr, tpr, 'b',label='Train AUC = %0.2f'% roc_auc)\n",
    "plt.plot(fpr2, tpr2, 'r',label='Test AUC = %0.2f'% roc_auc2)\n",
    "plt.legend(loc='lower right')\n",
    "plt.plot([0,1],[0,1],'g--')\n",
    "#plt.xlim([-0.1,1.2])\n",
    "#plt.ylim([-0.1,1.2])\n",
    "plt.ylabel('True Positive Rate')\n",
    "plt.xlabel('False Positive Rate')\n",
    "plt.show()"
   ]
  },
  {
   "cell_type": "code",
   "execution_count": 264,
   "metadata": {},
   "outputs": [],
   "source": [
    "model = SGDClassifier(class_weight = 'balanced', loss = 'hinge',penalty = 'l1')\n",
    "model.fit(X_train, y_train)\n",
    "prediction = model.predict(X_test)"
   ]
  },
  {
   "cell_type": "code",
   "execution_count": 265,
   "metadata": {},
   "outputs": [],
   "source": [
    "bow_features = tfidf_vect.get_feature_names()\n",
    "log_prob = model.coef_ \n",
    "feature_prob = pd.DataFrame(log_prob, columns = bow_features)\n",
    "feature_prob_tr = feature_prob.T\n",
    "#feature_prob_tr.shape"
   ]
  },
  {
   "cell_type": "code",
   "execution_count": 266,
   "metadata": {},
   "outputs": [
    {
     "name": "stdout",
     "output_type": "stream",
     "text": [
      "Classification Report: \n",
      "\n",
      "              precision    recall  f1-score   support\n",
      "\n",
      "           0       0.58      0.88      0.70      4235\n",
      "           1       0.97      0.88      0.92     22097\n",
      "\n",
      "    accuracy                           0.88     26332\n",
      "   macro avg       0.78      0.88      0.81     26332\n",
      "weighted avg       0.91      0.88      0.89     26332\n",
      "\n"
     ]
    }
   ],
   "source": [
    "print(\"Classification Report: \\n\")\n",
    "print(classification_report(y_test, prediction))"
   ]
  },
  {
   "cell_type": "code",
   "execution_count": 267,
   "metadata": {},
   "outputs": [
    {
     "data": {
      "image/png": "[encoded data removed]",
      "text/plain": [
       "<Figure size 432x288 with 2 Axes>"
      ]
     },
     "metadata": {},
     "output_type": "display_data"
    }
   ],
   "source": [
    "conf_matrix = confusion_matrix(y_test, prediction)\n",
    "class_label = ['negative', 'positive']\n",
    "df_conf_matrix = pd.DataFrame(\n",
    "    conf_matrix, index=class_label, columns=class_label)\n",
    "sb.heatmap(df_conf_matrix, annot=True, fmt='d')\n",
    "plt.title(\"Confusion Matrix\")\n",
    "plt.xlabel(\"Predicted\")\n",
    "plt.ylabel(\"Actual\")\n",
    "plt.show()"
   ]
  },
  {
   "cell_type": "markdown",
   "metadata": {},
   "source": [
    "### L2 reg"
   ]
  },
  {
   "cell_type": "code",
   "execution_count": 268,
   "metadata": {},
   "outputs": [
    {
     "data": {
      "image/png": "[encoded data removed]",
      "text/plain": [
       "<Figure size 432x288 with 1 Axes>"
      ]
     },
     "metadata": {},
     "output_type": "display_data"
    }
   ],
   "source": [
    "\n",
    "c_values = []\n",
    "alpha        = 0.0001\n",
    "while(alpha <= 100):\n",
    "    c_values.append(np.round(alpha,4))\n",
    "    alpha *= 10\n",
    "    \n",
    "train_pred = []\n",
    "cv_pred    = []\n",
    "for C in c_values:\n",
    "    model = SGDClassifier(alpha = C,class_weight = 'balanced', loss = 'hinge',penalty = 'l2')\n",
    "    model = CalibratedClassifierCV(model, method='sigmoid')\n",
    "    model.fit(X_train, y_train)\n",
    "    \n",
    "    #train \n",
    "    train_pre = model.predict_proba(X_train)[:,1]\n",
    "    roc_auc    =  roc_auc_score(y_train, train_pre)\n",
    "    #np.append(train_pred,roc_auc) \n",
    "    train_pred.append(roc_auc)\n",
    "    \n",
    "    \n",
    "    #cross val\n",
    "    cv_pre    = model.predict_proba(X_cv)[:,1]\n",
    "    roc_auc2    =  roc_auc_score(y_cv, cv_pre)\n",
    "    #np.append(cv_pred,roc_auc2)\n",
    "    cv_pred.append(roc_auc2)\n",
    "\n",
    "plt.plot(c_values, train_pred, 'b', label = \"Train AUC\")\n",
    "plt.plot(c_values, cv_pred, 'r', label = \"cross val\")\n",
    "\n",
    "plt.legend()\n",
    "\n",
    "plt.ylabel('AUC score')\n",
    "plt.xlabel('alpha')\n",
    "plt.show()"
   ]
  },
  {
   "cell_type": "code",
   "execution_count": 269,
   "metadata": {},
   "outputs": [
    {
     "name": "stdout",
     "output_type": "stream",
     "text": [
      "The optimal k value is:  1\n"
     ]
    }
   ],
   "source": [
    "a = 0\n",
    "for i in range(len(cv_pred)):\n",
    "    if(cv_pred[i]> cv_pred[a]):\n",
    "        a = i\n",
    "opt_alpha = a*2 + 1  \n",
    "print(\"The optimal k value is: \", opt_alpha)"
   ]
  },
  {
   "cell_type": "code",
   "execution_count": 270,
   "metadata": {},
   "outputs": [
    {
     "data": {
      "text/plain": [
       "CalibratedClassifierCV(base_estimator=SGDClassifier(alpha=0.0001, average=False,\n",
       "                                                    class_weight='balanced',\n",
       "                                                    early_stopping=False,\n",
       "                                                    epsilon=0.1, eta0=0.0,\n",
       "                                                    fit_intercept=True,\n",
       "                                                    l1_ratio=0.15,\n",
       "                                                    learning_rate='optimal',\n",
       "                                                    loss='hinge', max_iter=1000,\n",
       "                                                    n_iter_no_change=5,\n",
       "                                                    n_jobs=None, penalty='l2',\n",
       "                                                    power_t=0.5,\n",
       "                                                    random_state=None,\n",
       "                                                    shuffle=True, tol=0.001,\n",
       "                                                    validation_fraction=0.1,\n",
       "                                                    verbose=0,\n",
       "                                                    warm_start=False),\n",
       "                       cv='warn', method='sigmoid')"
      ]
     },
     "execution_count": 270,
     "metadata": {},
     "output_type": "execute_result"
    }
   ],
   "source": [
    "model = SGDClassifier(class_weight = 'balanced',loss = 'hinge',penalty = 'l2')\n",
    "model = CalibratedClassifierCV(model, method='sigmoid')\n",
    "model.fit(X_train, y_train)"
   ]
  },
  {
   "cell_type": "code",
   "execution_count": 271,
   "metadata": {},
   "outputs": [
    {
     "data": {
      "image/png": "[encoded data removed]",
      "text/plain": [
       "<Figure size 432x288 with 1 Axes>"
      ]
     },
     "metadata": {},
     "output_type": "display_data"
    }
   ],
   "source": [
    "tra_pred = model.predict_proba(X_train)[:,1]\n",
    "fpr, tpr, thresholds = roc_curve(y_train,tra_pred)\n",
    "roc_auc = auc(fpr, tpr)\n",
    "\n",
    "test_pred = model.predict_proba(X_test)[:,1]\n",
    "fpr2, tpr2, thresholds2 = roc_curve(y_test,test_pred)\n",
    "roc_auc2 = auc(fpr2, tpr2)\n",
    "\n",
    "plt.title('Receiver Operating Characteristic')\n",
    "plt.plot(fpr, tpr, 'b',label='Train AUC = %0.2f'% roc_auc)\n",
    "plt.plot(fpr2, tpr2, 'r',label='Test AUC = %0.2f'% roc_auc2)\n",
    "plt.legend(loc='lower right')\n",
    "plt.plot([0,1],[0,1],'g--')\n",
    "#plt.xlim([-0.1,1.2])\n",
    "#plt.ylim([-0.1,1.2])\n",
    "plt.ylabel('True Positive Rate')\n",
    "plt.xlabel('False Positive Rate')\n",
    "plt.show()"
   ]
  },
  {
   "cell_type": "code",
   "execution_count": 273,
   "metadata": {},
   "outputs": [],
   "source": [
    "model = SGDClassifier(class_weight = 'balanced', loss = 'hinge',penalty = 'l2')\n",
    "model.fit(X_train, y_train)\n",
    "prediction = model.predict(X_test)"
   ]
  },
  {
   "cell_type": "code",
   "execution_count": 274,
   "metadata": {},
   "outputs": [],
   "source": [
    "bow_features = tfidf_vect.get_feature_names()\n",
    "log_prob = model.coef_ \n",
    "feature_prob = pd.DataFrame(log_prob, columns = bow_features)\n",
    "feature_prob_tr = feature_prob.T\n",
    "#feature_prob_tr.shape"
   ]
  },
  {
   "cell_type": "code",
   "execution_count": 275,
   "metadata": {},
   "outputs": [
    {
     "name": "stdout",
     "output_type": "stream",
     "text": [
      "Classification Report: \n",
      "\n",
      "              precision    recall  f1-score   support\n",
      "\n",
      "           0       0.65      0.89      0.76      4235\n",
      "           1       0.98      0.91      0.94     22097\n",
      "\n",
      "    accuracy                           0.91     26332\n",
      "   macro avg       0.82      0.90      0.85     26332\n",
      "weighted avg       0.93      0.91      0.91     26332\n",
      "\n"
     ]
    }
   ],
   "source": [
    "print(\"Classification Report: \\n\")\n",
    "print(classification_report(y_test, prediction))"
   ]
  },
  {
   "cell_type": "code",
   "execution_count": 276,
   "metadata": {},
   "outputs": [
    {
     "data": {
      "image/png": "[encoded data removed]",
      "text/plain": [
       "<Figure size 432x288 with 2 Axes>"
      ]
     },
     "metadata": {},
     "output_type": "display_data"
    }
   ],
   "source": [
    "conf_matrix = confusion_matrix(y_test, prediction)\n",
    "class_label = ['negative', 'positive']\n",
    "df_conf_matrix = pd.DataFrame(\n",
    "    conf_matrix, index=class_label, columns=class_label)\n",
    "sb.heatmap(df_conf_matrix, annot=True, fmt='d')\n",
    "plt.title(\"Confusion Matrix\")\n",
    "plt.xlabel(\"Predicted\")\n",
    "plt.ylabel(\"Actual\")\n",
    "plt.show()"
   ]
  },
  {
   "cell_type": "markdown",
   "metadata": {},
   "source": [
    "### Feature Importance"
   ]
  },
  {
   "cell_type": "code",
   "execution_count": 277,
   "metadata": {},
   "outputs": [
    {
     "name": "stdout",
     "output_type": "stream",
     "text": [
      "Top 10 Negative Features:-\n",
      " great        5.593841\n",
      "delicious    4.303405\n",
      "good         3.714853\n",
      "the best     3.393497\n",
      "perfect      3.362319\n",
      "best         3.224859\n",
      "nice         3.164940\n",
      "excellent    3.059917\n",
      "not too      2.888390\n",
      "love         2.869981\n",
      "Name: 0, dtype: float64\n",
      "\n",
      "\n",
      " Top 10 Positive Features:-\n",
      " not             -4.454696\n",
      "disappointed    -3.131377\n",
      "awful           -3.104140\n",
      "terrible        -2.916941\n",
      "horrible        -2.733745\n",
      "disappointing   -2.685511\n",
      "not worth       -2.674624\n",
      "bad             -2.609059\n",
      "worst           -2.543513\n",
      "unfortunately   -2.542035\n",
      "Name: 0, dtype: float64\n"
     ]
    }
   ],
   "source": [
    "# To show top 10 feature from both class\n",
    "# Feature Importance\n",
    "print(\"Top 10 Negative Features:-\\n\",feature_prob_tr[0].sort_values(ascending = False)[0:10])\n",
    "print(\"\\n\\n Top 10 Positive Features:-\\n\",feature_prob_tr[1].sort_values(ascending = True)[0:10])"
   ]
  },
  {
   "cell_type": "markdown",
   "metadata": {},
   "source": [
    "###  Applying Linear SVM on AVG W2V, SET 3"
   ]
  },
  {
   "cell_type": "code",
   "execution_count": 278,
   "metadata": {},
   "outputs": [],
   "source": [
    "# split the data set into train and test\n",
    "X_train, X_test, y_train, y_test = train_test_split(x, y, test_size=0.3, random_state=0)\n",
    "X_train, X_cv, y_train, y_cv = train_test_split(X_train, y_train, test_size=0.3)"
   ]
  },
  {
   "cell_type": "code",
   "execution_count": 279,
   "metadata": {},
   "outputs": [
    {
     "name": "stdout",
     "output_type": "stream",
     "text": [
      "The size of the corpus is:  43008\n"
     ]
    },
    {
     "name": "stderr",
     "output_type": "stream",
     "text": [
      "100%|████████████████████████████████████████████████████████████████████████████| 43008/43008 [20:43<00:00, 34.59it/s]\n",
      "100%|████████████████████████████████████████████████████████████████████████████| 26332/26332 [13:17<00:00, 33.03it/s]\n",
      "100%|████████████████████████████████████████████████████████████████████████████| 18433/18433 [09:25<00:00, 32.61it/s]\n"
     ]
    }
   ],
   "source": [
    "def standardize(data):    \n",
    "    from sklearn.preprocessing import StandardScaler\n",
    "    scalar = StandardScaler()\n",
    "    std = scalar.fit_transform(data)\n",
    "    return (std)\n",
    "\n",
    "word2vec_corpus=[]\n",
    "for sentence in X_train:\n",
    "    word2vec_corpus.append(sentence.split()) \n",
    "print(\"The size of the corpus is: \",len(word2vec_corpus))\n",
    "\n",
    "word2vec_model=Word2Vec(sentences=word2vec_corpus, size=200, min_count=5, workers=6) \n",
    "word2vec_words = list(word2vec_model.wv.vocab)                                       \n",
    "\n",
    "def vect_w2v(dataset, word2vec_model, word2vec_words):\n",
    "    word2vec_corpus=[]\n",
    "    for sentence in dataset:\n",
    "        word2vec_corpus.append(sentence.split()) \n",
    "    \n",
    "    sent_vectors = []; \n",
    "    for sentence in tqdm(word2vec_corpus): \n",
    "        sent_vec = np.zeros(200) \n",
    "        count_words =0; \n",
    "        for word in sentence: \n",
    "            if word in word2vec_words:\n",
    "                word_vectors = word2vec_model.wv[word] \n",
    "                sent_vec += word_vectors\n",
    "                count_words += 1\n",
    "        if count_words != 0:\n",
    "            sent_vec /= count_words\n",
    "        sent_vectors.append(sent_vec)\n",
    "    sent_vectors = np.array(sent_vectors)\n",
    "    return sent_vectors\n",
    "\n",
    "\n",
    "X_train = vect_w2v(X_train, word2vec_model, word2vec_words)\n",
    "X_test = vect_w2v(X_test, word2vec_model, word2vec_words)\n",
    "X_cv = vect_w2v(X_cv, word2vec_model, word2vec_words)\n",
    "\n",
    "X_train = standardize(X_train)\n",
    "X_test = standardize(X_test)\n",
    "X_cv = standardize(X_cv)"
   ]
  },
  {
   "cell_type": "markdown",
   "metadata": {},
   "source": [
    "### L1 reg"
   ]
  },
  {
   "cell_type": "code",
   "execution_count": 281,
   "metadata": {},
   "outputs": [
    {
     "data": {
      "image/png": "[encoded data removed]",
      "text/plain": [
       "<Figure size 432x288 with 1 Axes>"
      ]
     },
     "metadata": {},
     "output_type": "display_data"
    }
   ],
   "source": [
    "from sklearn.linear_model import SGDClassifier\n",
    "from sklearn.svm import SVC\n",
    "from sklearn.metrics import roc_curve, auc\n",
    "from sklearn.metrics import roc_auc_score\n",
    "from matplotlib.legend_handler import HandlerLine2D\n",
    "from sklearn.calibration import CalibratedClassifierCV\n",
    "c_values = []\n",
    "alpha        = 0.0001\n",
    "while(alpha <= 1):\n",
    "    c_values.append(np.round(alpha,4))\n",
    "    alpha *= 10\n",
    "    \n",
    "train_pred = []\n",
    "cv_pred    = []\n",
    "for C in c_values:\n",
    "    model = SGDClassifier(alpha = C,class_weight = 'balanced', loss = 'hinge',penalty = 'l1')\n",
    "    model = CalibratedClassifierCV(model, method='sigmoid')\n",
    "    model.fit(X_train, y_train)\n",
    "    \n",
    "    #train \n",
    "    train_pre = model.predict_proba(X_train)[:,1]\n",
    "    roc_auc    =  roc_auc_score(y_train, train_pre)\n",
    "    #np.append(train_pred,roc_auc) \n",
    "    train_pred.append(roc_auc)\n",
    "    \n",
    "    \n",
    "    #cross val\n",
    "    cv_pre    = model.predict_proba(X_cv)[:,1]\n",
    "    roc_auc2    =  roc_auc_score(y_cv, cv_pre)\n",
    "    #np.append(cv_pred,roc_auc2)\n",
    "    cv_pred.append(roc_auc2)\n",
    "\n",
    "plt.plot(c_values, train_pred, 'b', label = \"Train AUC\")\n",
    "plt.plot(c_values, cv_pred, 'r', label = \"cross val\")\n",
    "\n",
    "plt.legend()\n",
    "\n",
    "plt.ylabel('AUC score')\n",
    "plt.xlabel('alpha')\n",
    "plt.show()"
   ]
  },
  {
   "cell_type": "code",
   "execution_count": 282,
   "metadata": {},
   "outputs": [
    {
     "name": "stdout",
     "output_type": "stream",
     "text": [
      "The optimal k value is:  3\n"
     ]
    }
   ],
   "source": [
    "a = 0\n",
    "for i in range(len(cv_pred)):\n",
    "    if(cv_pred[i]> cv_pred[a]):\n",
    "        a = i\n",
    "opt_alpha = a*2 + 1  \n",
    "print(\"The optimal k value is: \", opt_alpha)"
   ]
  },
  {
   "cell_type": "code",
   "execution_count": 283,
   "metadata": {},
   "outputs": [
    {
     "data": {
      "text/plain": [
       "CalibratedClassifierCV(base_estimator=SGDClassifier(alpha=0.0001, average=False,\n",
       "                                                    class_weight='balanced',\n",
       "                                                    early_stopping=False,\n",
       "                                                    epsilon=0.1, eta0=0.0,\n",
       "                                                    fit_intercept=True,\n",
       "                                                    l1_ratio=0.15,\n",
       "                                                    learning_rate='optimal',\n",
       "                                                    loss='hinge', max_iter=1000,\n",
       "                                                    n_iter_no_change=5,\n",
       "                                                    n_jobs=None, penalty='l1',\n",
       "                                                    power_t=0.5,\n",
       "                                                    random_state=None,\n",
       "                                                    shuffle=True, tol=0.001,\n",
       "                                                    validation_fraction=0.1,\n",
       "                                                    verbose=0,\n",
       "                                                    warm_start=False),\n",
       "                       cv='warn', method='sigmoid')"
      ]
     },
     "execution_count": 283,
     "metadata": {},
     "output_type": "execute_result"
    }
   ],
   "source": [
    "model = SGDClassifier(class_weight = 'balanced',loss = 'hinge',penalty = 'l1')\n",
    "model = CalibratedClassifierCV(model, method='sigmoid')\n",
    "model.fit(X_train, y_train)"
   ]
  },
  {
   "cell_type": "code",
   "execution_count": 284,
   "metadata": {},
   "outputs": [
    {
     "data": {
      "image/png": "[encoded data removed]",
      "text/plain": [
       "<Figure size 432x288 with 1 Axes>"
      ]
     },
     "metadata": {},
     "output_type": "display_data"
    }
   ],
   "source": [
    "tra_pred = model.predict_proba(X_train)[:,1]\n",
    "fpr, tpr, thresholds = roc_curve(y_train,tra_pred)\n",
    "roc_auc = auc(fpr, tpr)\n",
    "\n",
    "test_pred = model.predict_proba(X_test)[:,1]\n",
    "fpr2, tpr2, thresholds2 = roc_curve(y_test,test_pred)\n",
    "roc_auc2 = auc(fpr2, tpr2)\n",
    "\n",
    "plt.title('Receiver Operating Characteristic')\n",
    "plt.plot(fpr, tpr, 'b',label='Train AUC = %0.2f'% roc_auc)\n",
    "plt.plot(fpr2, tpr2, 'r',label='Test AUC = %0.2f'% roc_auc2)\n",
    "plt.legend(loc='lower right')\n",
    "plt.plot([0,1],[0,1],'g--')\n",
    "#plt.xlim([-0.1,1.2])\n",
    "#plt.ylim([-0.1,1.2])\n",
    "plt.ylabel('True Positive Rate')\n",
    "plt.xlabel('False Positive Rate')\n",
    "plt.show()"
   ]
  },
  {
   "cell_type": "code",
   "execution_count": 285,
   "metadata": {},
   "outputs": [],
   "source": [
    "model = SGDClassifier(class_weight = 'balanced', loss = 'hinge',penalty = 'l1')\n",
    "model.fit(X_train, y_train)\n",
    "prediction = model.predict(X_test)"
   ]
  },
  {
   "cell_type": "code",
   "execution_count": 286,
   "metadata": {},
   "outputs": [
    {
     "name": "stdout",
     "output_type": "stream",
     "text": [
      "Classification Report: \n",
      "\n",
      "              precision    recall  f1-score   support\n",
      "\n",
      "           0       0.40      0.82      0.54      4235\n",
      "           1       0.96      0.76      0.85     22097\n",
      "\n",
      "    accuracy                           0.77     26332\n",
      "   macro avg       0.68      0.79      0.69     26332\n",
      "weighted avg       0.87      0.77      0.80     26332\n",
      "\n"
     ]
    }
   ],
   "source": [
    "from sklearn.metrics import classification_report\n",
    "print(\"Classification Report: \\n\")\n",
    "print(classification_report(y_test, prediction))"
   ]
  },
  {
   "cell_type": "code",
   "execution_count": 287,
   "metadata": {},
   "outputs": [
    {
     "data": {
      "image/png": "[encoded data removed]",
      "text/plain": [
       "<Figure size 432x288 with 2 Axes>"
      ]
     },
     "metadata": {},
     "output_type": "display_data"
    }
   ],
   "source": [
    "import seaborn as sb\n",
    "\n",
    "conf_matrix = confusion_matrix(y_test, prediction)\n",
    "class_label = ['negative', 'positive']\n",
    "df_conf_matrix = pd.DataFrame(\n",
    "    conf_matrix, index=class_label, columns=class_label)\n",
    "sb.heatmap(df_conf_matrix, annot=True, fmt='d')\n",
    "plt.title(\"Confusion Matrix\")\n",
    "plt.xlabel(\"Predicted\")\n",
    "plt.ylabel(\"Actual\")\n",
    "plt.show()"
   ]
  },
  {
   "cell_type": "markdown",
   "metadata": {},
   "source": [
    "### L2 reg"
   ]
  },
  {
   "cell_type": "code",
   "execution_count": 288,
   "metadata": {},
   "outputs": [
    {
     "data": {
      "image/png": "[encoded data removed]",
      "text/plain": [
       "<Figure size 432x288 with 1 Axes>"
      ]
     },
     "metadata": {},
     "output_type": "display_data"
    }
   ],
   "source": [
    "\n",
    "c_values = []\n",
    "alpha        = 0.0001\n",
    "while(alpha <= 10):\n",
    "    c_values.append(np.round(alpha,4))\n",
    "    alpha *= 10\n",
    "    \n",
    "train_pred = []\n",
    "cv_pred    = []\n",
    "for C in c_values:\n",
    "    model = SGDClassifier(alpha=C,class_weight = 'balanced', loss = 'hinge',penalty = 'l2')\n",
    "    model = CalibratedClassifierCV(model, method='sigmoid')\n",
    "    model.fit(X_train, y_train)\n",
    "    \n",
    "    #train \n",
    "    train_pre = model.predict_proba(X_train)[:,1]\n",
    "    roc_auc    =  roc_auc_score(y_train, train_pre)\n",
    "    #np.append(train_pred,roc_auc) \n",
    "    train_pred.append(roc_auc)\n",
    "    \n",
    "    \n",
    "    #cross val\n",
    "    cv_pre    = model.predict_proba(X_cv)[:,1]\n",
    "    roc_auc2    =  roc_auc_score(y_cv, cv_pre)\n",
    "    #np.append(cv_pred,roc_auc2)\n",
    "    cv_pred.append(roc_auc2)\n",
    "\n",
    "plt.plot(c_values, train_pred, 'b', label = \"Train AUC\")\n",
    "plt.plot(c_values, cv_pred, 'r', label = \"cross val\")\n",
    "\n",
    "plt.legend()\n",
    "\n",
    "plt.ylabel('AUC score')\n",
    "plt.xlabel('alpha')\n",
    "plt.show()"
   ]
  },
  {
   "cell_type": "code",
   "execution_count": 289,
   "metadata": {},
   "outputs": [
    {
     "name": "stdout",
     "output_type": "stream",
     "text": [
      "The optimal k value is:  3\n"
     ]
    }
   ],
   "source": [
    "a = 0\n",
    "for i in range(len(cv_pred)):\n",
    "    if(cv_pred[i]> cv_pred[a]):\n",
    "        a = i\n",
    "opt_alpha = a*2 + 1  \n",
    "print(\"The optimal k value is: \", opt_alpha)"
   ]
  },
  {
   "cell_type": "code",
   "execution_count": 290,
   "metadata": {},
   "outputs": [
    {
     "data": {
      "text/plain": [
       "CalibratedClassifierCV(base_estimator=SGDClassifier(alpha=0.0001, average=False,\n",
       "                                                    class_weight='balanced',\n",
       "                                                    early_stopping=False,\n",
       "                                                    epsilon=0.1, eta0=0.0,\n",
       "                                                    fit_intercept=True,\n",
       "                                                    l1_ratio=0.15,\n",
       "                                                    learning_rate='optimal',\n",
       "                                                    loss='hinge', max_iter=1000,\n",
       "                                                    n_iter_no_change=5,\n",
       "                                                    n_jobs=None, penalty='l2',\n",
       "                                                    power_t=0.5,\n",
       "                                                    random_state=None,\n",
       "                                                    shuffle=True, tol=0.001,\n",
       "                                                    validation_fraction=0.1,\n",
       "                                                    verbose=0,\n",
       "                                                    warm_start=False),\n",
       "                       cv='warn', method='sigmoid')"
      ]
     },
     "execution_count": 290,
     "metadata": {},
     "output_type": "execute_result"
    }
   ],
   "source": [
    "model = SGDClassifier(class_weight = 'balanced',loss = 'hinge',penalty = 'l2')\n",
    "model = CalibratedClassifierCV(model, method='sigmoid')\n",
    "model.fit(X_train, y_train)"
   ]
  },
  {
   "cell_type": "code",
   "execution_count": 291,
   "metadata": {},
   "outputs": [
    {
     "data": {
      "image/png": "[encoded data removed]",
      "text/plain": [
       "<Figure size 432x288 with 1 Axes>"
      ]
     },
     "metadata": {},
     "output_type": "display_data"
    }
   ],
   "source": [
    "tra_pred = model.predict_proba(X_train)[:,1]\n",
    "fpr, tpr, thresholds = roc_curve(y_train,tra_pred)\n",
    "roc_auc = auc(fpr, tpr)\n",
    "\n",
    "test_pred = model.predict_proba(X_test)[:,1]\n",
    "fpr2, tpr2, thresholds2 = roc_curve(y_test,test_pred)\n",
    "roc_auc2 = auc(fpr2, tpr2)\n",
    "\n",
    "plt.title('Receiver Operating Characteristic')\n",
    "plt.plot(fpr, tpr, 'b',label='Train AUC = %0.2f'% roc_auc)\n",
    "plt.plot(fpr2, tpr2, 'r',label='Test AUC = %0.2f'% roc_auc2)\n",
    "plt.legend(loc='lower right')\n",
    "plt.plot([0,1],[0,1],'g--')\n",
    "#plt.xlim([-0.1,1.2])\n",
    "#plt.ylim([-0.1,1.2])\n",
    "plt.ylabel('True Positive Rate')\n",
    "plt.xlabel('False Positive Rate')\n",
    "plt.show()"
   ]
  },
  {
   "cell_type": "code",
   "execution_count": 292,
   "metadata": {},
   "outputs": [],
   "source": [
    "model = SGDClassifier(class_weight = 'balanced', loss = 'hinge',penalty = 'l2')\n",
    "model.fit(X_train, y_train)\n",
    "prediction = model.predict(X_test)"
   ]
  },
  {
   "cell_type": "code",
   "execution_count": 293,
   "metadata": {},
   "outputs": [
    {
     "name": "stdout",
     "output_type": "stream",
     "text": [
      "Classification Report: \n",
      "\n",
      "              precision    recall  f1-score   support\n",
      "\n",
      "           0       0.42      0.80      0.55      4235\n",
      "           1       0.95      0.79      0.86     22097\n",
      "\n",
      "    accuracy                           0.79     26332\n",
      "   macro avg       0.69      0.80      0.71     26332\n",
      "weighted avg       0.87      0.79      0.81     26332\n",
      "\n"
     ]
    }
   ],
   "source": [
    "from sklearn.metrics import classification_report\n",
    "print(\"Classification Report: \\n\")\n",
    "print(classification_report(y_test, prediction))"
   ]
  },
  {
   "cell_type": "code",
   "execution_count": 294,
   "metadata": {},
   "outputs": [
    {
     "data": {
      "image/png": "[encoded data removed]",
      "text/plain": [
       "<Figure size 432x288 with 2 Axes>"
      ]
     },
     "metadata": {},
     "output_type": "display_data"
    }
   ],
   "source": [
    "import seaborn as sb\n",
    "conf_matrix = confusion_matrix(y_test, prediction)\n",
    "class_label = ['negative', 'positive']\n",
    "df_conf_matrix = pd.DataFrame(\n",
    "    conf_matrix, index=class_label, columns=class_label)\n",
    "sb.heatmap(df_conf_matrix, annot=True, fmt='d')\n",
    "plt.title(\"Confusion Matrix\")\n",
    "plt.xlabel(\"Predicted\")\n",
    "plt.ylabel(\"Actual\")\n",
    "plt.show()"
   ]
  },
  {
   "cell_type": "markdown",
   "metadata": {},
   "source": [
    "### Applying Linear SVM on TFIDF W2V, SET 4"
   ]
  },
  {
   "cell_type": "code",
   "execution_count": 295,
   "metadata": {},
   "outputs": [],
   "source": [
    "# split the data set into train and test\n",
    "X_train, X_test, y_train, y_test = train_test_split(x, y, test_size=0.3, random_state=0)\n",
    "X_train, X_cv, y_train, y_cv = train_test_split(X_train, y_train, test_size=0.3)"
   ]
  },
  {
   "cell_type": "code",
   "execution_count": 296,
   "metadata": {},
   "outputs": [
    {
     "name": "stderr",
     "output_type": "stream",
     "text": [
      "100%|██████████████████████████████████████████████████████████████████████████| 43008/43008 [4:32:26<00:00,  3.70it/s]\n",
      "100%|██████████████████████████████████████████████████████████████████████████| 26332/26332 [1:25:20<00:00,  5.14it/s]\n",
      "100%|████████████████████████████████████████████████████████████████████████████| 18433/18433 [42:14<00:00,  7.27it/s]\n"
     ]
    }
   ],
   "source": [
    "word2vec_corpus = []\n",
    "for sentence in X_train:\n",
    "    word2vec_corpus.append(sentence.split())\n",
    "\n",
    "word2vec_model = Word2Vec(sentences=word2vec_corpus, size=200, min_count=5, workers=8)\n",
    "word2vec_words = list(word2vec_model.wv.vocab)\n",
    "\n",
    "tf_idf = TfidfVectorizer(ngram_range=(1,1)).fit(X_train)\n",
    "\n",
    "\n",
    "def vect_tfidf_w2v(dataset, tf_idf_object, word2vec_model, word2vec_words):\n",
    "\n",
    "    word2vec_corpus=[]\n",
    "    for sentence in dataset:\n",
    "        word2vec_corpus.append(sentence.split())\n",
    "\n",
    "    tf_idf_matrix = tf_idf_object.transform(dataset)\n",
    "    tfidf_features = tf_idf_object.get_feature_names() \n",
    "    \n",
    "    dictionary = dict(zip(tf_idf_object.get_feature_names(), list(tf_idf_object.idf_)))\n",
    "    \n",
    "    tfidf_sent_vectors = []; \n",
    "    row=0;\n",
    "    for sentence in tqdm(word2vec_corpus): \n",
    "        sent_vec = np.zeros(200) \n",
    "        weight_sum = 0;\n",
    "        for word in sentence: \n",
    "            if((word in word2vec_words) and (word in tfidf_features)):\n",
    "                word_vectors = word2vec_model.wv[word]\n",
    "                tf_idf = dictionary[word]*(sentence.count(word)/len(sentence)) \n",
    "                sent_vec += (word_vectors * tf_idf)                           \n",
    "                weight_sum += tf_idf\n",
    "        if weight_sum != 0:\n",
    "            sent_vec /= weight_sum\n",
    "        tfidf_sent_vectors.append(sent_vec)\n",
    "        row += 1\n",
    "\n",
    "    tfidf_sent_vectors = np.array(tfidf_sent_vectors)\n",
    "    return tfidf_sent_vectors\n",
    "\n",
    "\n",
    "X_train = vect_tfidf_w2v(X_train, tf_idf, word2vec_model, word2vec_words)\n",
    "X_test  = vect_tfidf_w2v(X_test, tf_idf, word2vec_model, word2vec_words)\n",
    "X_cv    = vect_tfidf_w2v(X_cv, tf_idf, word2vec_model, word2vec_words)\n",
    "\n",
    "\n",
    "X_train = standardize(X_train)\n",
    "X_test  = standardize(X_test)\n",
    "X_cv    = standardize(X_cv)"
   ]
  },
  {
   "cell_type": "markdown",
   "metadata": {},
   "source": [
    "### L1 reg"
   ]
  },
  {
   "cell_type": "code",
   "execution_count": 297,
   "metadata": {},
   "outputs": [
    {
     "data": {
      "image/png": "[encoded data removed]",
      "text/plain": [
       "<Figure size 432x288 with 1 Axes>"
      ]
     },
     "metadata": {},
     "output_type": "display_data"
    }
   ],
   "source": [
    "\n",
    "c_values = []\n",
    "alpha        = 0.0001\n",
    "while(alpha <= 1):\n",
    "    c_values.append(np.round(alpha,4))\n",
    "    alpha *= 10\n",
    "    \n",
    "train_pred = []\n",
    "cv_pred    = []\n",
    "for C in c_values:\n",
    "    model = SGDClassifier(alpha=C,class_weight = 'balanced', loss = 'hinge',penalty = 'l1')\n",
    "    model = CalibratedClassifierCV(model, method='sigmoid')\n",
    "    model.fit(X_train, y_train)\n",
    "    \n",
    "    #train \n",
    "    train_pre = model.predict_proba(X_train)[:,1]\n",
    "    roc_auc    =  roc_auc_score(y_train, train_pre)\n",
    "    #np.append(train_pred,roc_auc) \n",
    "    train_pred.append(roc_auc)\n",
    "    \n",
    "    \n",
    "    #cross val\n",
    "    cv_pre    = model.predict_proba(X_cv)[:,1]\n",
    "    roc_auc2    =  roc_auc_score(y_cv, cv_pre)\n",
    "    #np.append(cv_pred,roc_auc2)\n",
    "    cv_pred.append(roc_auc2)\n",
    "\n",
    "plt.plot(c_values, train_pred, 'b', label = \"Train AUC\")\n",
    "plt.plot(c_values, cv_pred, 'r', label = \"cross val\")\n",
    "\n",
    "plt.legend()\n",
    "\n",
    "plt.ylabel('AUC score')\n",
    "plt.xlabel('alpha')\n",
    "plt.show()"
   ]
  },
  {
   "cell_type": "code",
   "execution_count": 298,
   "metadata": {},
   "outputs": [
    {
     "name": "stdout",
     "output_type": "stream",
     "text": [
      "The optimal k value is:  3\n"
     ]
    }
   ],
   "source": [
    "a = 0\n",
    "for i in range(len(cv_pred)):\n",
    "    if(cv_pred[i]> cv_pred[a]):\n",
    "        a = i\n",
    "opt_alpha = a*2 + 1  \n",
    "print(\"The optimal k value is: \", opt_alpha)"
   ]
  },
  {
   "cell_type": "code",
   "execution_count": 299,
   "metadata": {},
   "outputs": [
    {
     "data": {
      "text/plain": [
       "CalibratedClassifierCV(base_estimator=SGDClassifier(alpha=0.0001, average=False,\n",
       "                                                    class_weight='balanced',\n",
       "                                                    early_stopping=False,\n",
       "                                                    epsilon=0.1, eta0=0.0,\n",
       "                                                    fit_intercept=True,\n",
       "                                                    l1_ratio=0.15,\n",
       "                                                    learning_rate='optimal',\n",
       "                                                    loss='hinge', max_iter=1000,\n",
       "                                                    n_iter_no_change=5,\n",
       "                                                    n_jobs=None, penalty='l1',\n",
       "                                                    power_t=0.5,\n",
       "                                                    random_state=None,\n",
       "                                                    shuffle=True, tol=0.001,\n",
       "                                                    validation_fraction=0.1,\n",
       "                                                    verbose=0,\n",
       "                                                    warm_start=False),\n",
       "                       cv='warn', method='sigmoid')"
      ]
     },
     "execution_count": 299,
     "metadata": {},
     "output_type": "execute_result"
    }
   ],
   "source": [
    "model = SGDClassifier(class_weight = 'balanced',loss = 'hinge',penalty = 'l1')\n",
    "model = CalibratedClassifierCV(model, method='sigmoid')\n",
    "model.fit(X_train, y_train)"
   ]
  },
  {
   "cell_type": "code",
   "execution_count": 300,
   "metadata": {},
   "outputs": [
    {
     "data": {
      "image/png": "[encoded data removed]",
      "text/plain": [
       "<Figure size 432x288 with 1 Axes>"
      ]
     },
     "metadata": {},
     "output_type": "display_data"
    }
   ],
   "source": [
    "tra_pred = model.predict_proba(X_train)[:,1]\n",
    "fpr, tpr, thresholds = roc_curve(y_train,tra_pred)\n",
    "roc_auc = auc(fpr, tpr)\n",
    "\n",
    "test_pred = model.predict_proba(X_test)[:,1]\n",
    "fpr2, tpr2, thresholds2 = roc_curve(y_test,test_pred)\n",
    "roc_auc2 = auc(fpr2, tpr2)\n",
    "\n",
    "plt.title('Receiver Operating Characteristic')\n",
    "plt.plot(fpr, tpr, 'b',label='Train AUC = %0.2f'% roc_auc)\n",
    "plt.plot(fpr2, tpr2, 'r',label='Test AUC = %0.2f'% roc_auc2)\n",
    "plt.legend(loc='lower right')\n",
    "plt.plot([0,1],[0,1],'g--')\n",
    "#plt.xlim([-0.1,1.2])\n",
    "#plt.ylim([-0.1,1.2])\n",
    "plt.ylabel('True Positive Rate')\n",
    "plt.xlabel('False Positive Rate')\n",
    "plt.show()"
   ]
  },
  {
   "cell_type": "code",
   "execution_count": 301,
   "metadata": {},
   "outputs": [],
   "source": [
    "model = SGDClassifier(class_weight = 'balanced', loss = 'hinge',penalty = 'l1')\n",
    "model.fit(X_train, y_train)\n",
    "prediction = model.predict(X_test)"
   ]
  },
  {
   "cell_type": "code",
   "execution_count": 302,
   "metadata": {},
   "outputs": [
    {
     "name": "stdout",
     "output_type": "stream",
     "text": [
      "Classification Report: \n",
      "\n",
      "              precision    recall  f1-score   support\n",
      "\n",
      "           0       0.35      0.79      0.49      4235\n",
      "           1       0.95      0.72      0.82     22097\n",
      "\n",
      "    accuracy                           0.73     26332\n",
      "   macro avg       0.65      0.76      0.66     26332\n",
      "weighted avg       0.85      0.73      0.77     26332\n",
      "\n"
     ]
    }
   ],
   "source": [
    "print(\"Classification Report: \\n\")\n",
    "print(classification_report(y_test, prediction))"
   ]
  },
  {
   "cell_type": "code",
   "execution_count": 303,
   "metadata": {},
   "outputs": [
    {
     "data": {
      "image/png": "[encoded data removed]",
      "text/plain": [
       "<Figure size 432x288 with 2 Axes>"
      ]
     },
     "metadata": {},
     "output_type": "display_data"
    }
   ],
   "source": [
    "conf_matrix = confusion_matrix(y_test, prediction)\n",
    "class_label = ['negative', 'positive']\n",
    "df_conf_matrix = pd.DataFrame(\n",
    "    conf_matrix, index=class_label, columns=class_label)\n",
    "sb.heatmap(df_conf_matrix, annot=True, fmt='d')\n",
    "plt.title(\"Confusion Matrix\")\n",
    "plt.xlabel(\"Predicted\")\n",
    "plt.ylabel(\"Actual\")\n",
    "plt.show()"
   ]
  },
  {
   "cell_type": "markdown",
   "metadata": {},
   "source": [
    "### L2 reg"
   ]
  },
  {
   "cell_type": "code",
   "execution_count": 304,
   "metadata": {},
   "outputs": [
    {
     "data": {
      "image/png": "[encoded data removed]",
      "text/plain": [
       "<Figure size 432x288 with 1 Axes>"
      ]
     },
     "metadata": {},
     "output_type": "display_data"
    }
   ],
   "source": [
    "\n",
    "c_values = []\n",
    "alpha        = 0.0001\n",
    "while(alpha <= 0.1):\n",
    "    c_values.append(np.round(alpha,4))\n",
    "    alpha *= 10\n",
    "    \n",
    "train_pred = []\n",
    "cv_pred    = []\n",
    "for C in c_values:\n",
    "    model = SGDClassifier(alpha = C,class_weight = 'balanced', loss = 'hinge',penalty = 'l2')\n",
    "    model = CalibratedClassifierCV(model, method='sigmoid')\n",
    "    model.fit(X_train, y_train)\n",
    "    \n",
    "    #train \n",
    "    train_pre = model.predict_proba(X_train)[:,1]\n",
    "    roc_auc    =  roc_auc_score(y_train, train_pre)\n",
    "    #np.append(train_pred,roc_auc) \n",
    "    train_pred.append(roc_auc)\n",
    "    \n",
    "    \n",
    "    #cross val\n",
    "    cv_pre    = model.predict_proba(X_cv)[:,1]\n",
    "    roc_auc2    =  roc_auc_score(y_cv, cv_pre)\n",
    "    #np.append(cv_pred,roc_auc2)\n",
    "    cv_pred.append(roc_auc2)\n",
    "\n",
    "plt.plot(c_values, train_pred, 'b', label = \"Train AUC\")\n",
    "plt.plot(c_values, cv_pred, 'r', label = \"cross val\")\n",
    "\n",
    "plt.legend()\n",
    "\n",
    "plt.ylabel('AUC score')\n",
    "plt.xlabel('alpha')\n",
    "plt.show()\n",
    "\n",
    "\n",
    "\n"
   ]
  },
  {
   "cell_type": "code",
   "execution_count": 305,
   "metadata": {},
   "outputs": [
    {
     "name": "stdout",
     "output_type": "stream",
     "text": [
      "The optimal k value is:  3\n"
     ]
    }
   ],
   "source": [
    "a = 0\n",
    "for i in range(len(cv_pred)):\n",
    "    if(cv_pred[i]> cv_pred[a]):\n",
    "        a = i\n",
    "opt_alpha = a*2 + 1  \n",
    "print(\"The optimal k value is: \", opt_alpha)"
   ]
  },
  {
   "cell_type": "code",
   "execution_count": 306,
   "metadata": {},
   "outputs": [
    {
     "data": {
      "text/plain": [
       "CalibratedClassifierCV(base_estimator=SGDClassifier(alpha=0.0001, average=False,\n",
       "                                                    class_weight='balanced',\n",
       "                                                    early_stopping=False,\n",
       "                                                    epsilon=0.1, eta0=0.0,\n",
       "                                                    fit_intercept=True,\n",
       "                                                    l1_ratio=0.15,\n",
       "                                                    learning_rate='optimal',\n",
       "                                                    loss='hinge', max_iter=1000,\n",
       "                                                    n_iter_no_change=5,\n",
       "                                                    n_jobs=None, penalty='l2',\n",
       "                                                    power_t=0.5,\n",
       "                                                    random_state=None,\n",
       "                                                    shuffle=True, tol=0.001,\n",
       "                                                    validation_fraction=0.1,\n",
       "                                                    verbose=0,\n",
       "                                                    warm_start=False),\n",
       "                       cv='warn', method='sigmoid')"
      ]
     },
     "execution_count": 306,
     "metadata": {},
     "output_type": "execute_result"
    }
   ],
   "source": [
    "model = SGDClassifier(class_weight = 'balanced',loss = 'hinge',penalty = 'l2')\n",
    "model = CalibratedClassifierCV(model, method='sigmoid')\n",
    "model.fit(X_train, y_train)"
   ]
  },
  {
   "cell_type": "code",
   "execution_count": 307,
   "metadata": {},
   "outputs": [
    {
     "data": {
      "image/png": "[encoded data removed]",
      "text/plain": [
       "<Figure size 432x288 with 1 Axes>"
      ]
     },
     "metadata": {},
     "output_type": "display_data"
    }
   ],
   "source": [
    "tra_pred = model.predict_proba(X_train)[:,1]\n",
    "fpr, tpr, thresholds = roc_curve(y_train,tra_pred)\n",
    "roc_auc = auc(fpr, tpr)\n",
    "\n",
    "test_pred = model.predict_proba(X_test)[:,1]\n",
    "fpr2, tpr2, thresholds2 = roc_curve(y_test,test_pred)\n",
    "roc_auc2 = auc(fpr2, tpr2)\n",
    "\n",
    "plt.title('Receiver Operating Characteristic')\n",
    "plt.plot(fpr, tpr, 'b',label='Train AUC = %0.2f'% roc_auc)\n",
    "plt.plot(fpr2, tpr2, 'r',label='Test AUC = %0.2f'% roc_auc2)\n",
    "plt.legend(loc='lower right')\n",
    "plt.plot([0,1],[0,1],'g--')\n",
    "#plt.xlim([-0.1,1.2])\n",
    "#plt.ylim([-0.1,1.2])\n",
    "plt.ylabel('True Positive Rate')\n",
    "plt.xlabel('False Positive Rate')\n",
    "plt.show()"
   ]
  },
  {
   "cell_type": "code",
   "execution_count": 308,
   "metadata": {},
   "outputs": [],
   "source": [
    "model = SGDClassifier(class_weight = 'balanced', loss = 'hinge',penalty = 'l2')\n",
    "model.fit(X_train, y_train)\n",
    "prediction = model.predict(X_test)"
   ]
  },
  {
   "cell_type": "code",
   "execution_count": 309,
   "metadata": {},
   "outputs": [
    {
     "name": "stdout",
     "output_type": "stream",
     "text": [
      "Classification Report: \n",
      "\n",
      "              precision    recall  f1-score   support\n",
      "\n",
      "           0       0.36      0.77      0.49      4235\n",
      "           1       0.94      0.73      0.83     22097\n",
      "\n",
      "    accuracy                           0.74     26332\n",
      "   macro avg       0.65      0.75      0.66     26332\n",
      "weighted avg       0.85      0.74      0.77     26332\n",
      "\n"
     ]
    }
   ],
   "source": [
    "\n",
    "print(\"Classification Report: \\n\")\n",
    "print(classification_report(y_test, prediction))"
   ]
  },
  {
   "cell_type": "code",
   "execution_count": 310,
   "metadata": {},
   "outputs": [
    {
     "data": {
      "image/png": "[encoded data removed]",
      "text/plain": [
       "<Figure size 432x288 with 2 Axes>"
      ]
     },
     "metadata": {},
     "output_type": "display_data"
    }
   ],
   "source": [
    "conf_matrix = confusion_matrix(y_test, prediction)\n",
    "class_label = ['negative', 'positive']\n",
    "df_conf_matrix = pd.DataFrame(\n",
    "    conf_matrix, index=class_label, columns=class_label)\n",
    "sb.heatmap(df_conf_matrix, annot=True, fmt='d')\n",
    "plt.title(\"Confusion Matrix\")\n",
    "plt.xlabel(\"Predicted\")\n",
    "plt.ylabel(\"Actual\")\n",
    "plt.show()"
   ]
  },
  {
   "cell_type": "markdown",
   "metadata": {},
   "source": [
    "### RBF SVM"
   ]
  },
  {
   "cell_type": "code",
   "execution_count": 311,
   "metadata": {},
   "outputs": [],
   "source": [
    "## Similartly you can do preprocessing for review summary also.\n",
    "#Sorting data according to Time in ascending order for Time Based Splitting\n",
    "data = final.sort_values('Time', axis=0, ascending=True, inplace=False, kind='quicksort', na_position='last')\n",
    "\n",
    "\n",
    "# Collecting 100k rows without repetition from time_sorted_data dataframe\n",
    "my_final = data.take(np.random.permutation(len(final))[:40000])\n",
    "#print(my_final.shape)\n",
    "# To get 2k +ve and 2k -ve reviews randomly.\n",
    "#data_pos = data[data[\"Score\"] == 1].sample(n = 200)\n",
    "#data_neg = data[data[\"Score\"] == 0].sample(n = 200)\n",
    "#my_final = pd.concat([data_pos, data_neg])\n",
    "\n",
    "#x = my_final['CleanedText'].values"
   ]
  },
  {
   "cell_type": "code",
   "execution_count": 312,
   "metadata": {},
   "outputs": [],
   "source": [
    "from sklearn.model_selection import train_test_split\n",
    "x = my_final['Text'].values\n",
    "y = my_final['Score']"
   ]
  },
  {
   "cell_type": "code",
   "execution_count": 313,
   "metadata": {},
   "outputs": [],
   "source": [
    "# split the data set into train and test\n",
    "X_train, X_test, y_train, y_test = train_test_split(x, y, test_size=0.3, random_state=0)\n",
    "X_train, X_cv, y_train, y_cv = train_test_split(X_train, y_train, test_size=0.3)"
   ]
  },
  {
   "cell_type": "markdown",
   "metadata": {},
   "source": [
    "### Applying Linear SVM on BOW, SET 1"
   ]
  },
  {
   "cell_type": "code",
   "execution_count": 314,
   "metadata": {},
   "outputs": [],
   "source": [
    "#BoW\n",
    "count_vect = CountVectorizer(max_features = 5000,min_df = 10) #in scikit-learn\n",
    "#count_vect.fit(my_final)\n",
    "#print(\"some feature names \", count_vect.get_feature_names()[:10])\n",
    "#print('='*50)\n",
    "\n",
    "#final_counts = count_vect.transform(my_final)\n",
    "#print(\"the type of count vectorizer \",type(final_counts))\n",
    "#print(\"the shape of out text BOW vectorizer \",final_counts.get_shape())\n",
    "#print(\"the number of unique words \", final_counts.get_shape()[1])\n",
    "\n",
    "\n",
    "X_train    = count_vect.fit_transform(X_train)\n",
    "X_cv       = count_vect.transform(X_cv)\n",
    "X_test     = count_vect.transform(X_test)"
   ]
  },
  {
   "cell_type": "code",
   "execution_count": 315,
   "metadata": {},
   "outputs": [
    {
     "data": {
      "image/png": "[encoded data removed]",
      "text/plain": [
       "<Figure size 432x288 with 1 Axes>"
      ]
     },
     "metadata": {},
     "output_type": "display_data"
    }
   ],
   "source": [
    "\n",
    "\n",
    "c_values = []\n",
    "alpha        = 0.0001\n",
    "while(alpha <= 1000):\n",
    "    c_values.append(np.round(alpha,4))\n",
    "    alpha *= 10\n",
    "    \n",
    "train_pred = []\n",
    "cv_pred    = []\n",
    "for C in c_values:\n",
    "    model = SVC(C = C,class_weight = 'balanced', kernel='rbf', gamma='auto')\n",
    "    model = CalibratedClassifierCV(model, method='sigmoid')\n",
    "    model.fit(X_train, y_train)\n",
    "    \n",
    "    #train \n",
    "    train_pre = model.predict_proba(X_train)[:,1]\n",
    "    roc_auc    =  roc_auc_score(y_train, train_pre)\n",
    "    #np.append(train_pred,roc_auc) \n",
    "    train_pred.append(roc_auc)\n",
    "    \n",
    "    \n",
    "    #cross val\n",
    "    cv_pre    = model.predict_proba(X_cv)[:,1]\n",
    "    roc_auc2    =  roc_auc_score(y_cv, cv_pre)\n",
    "    #np.append(cv_pred,roc_auc2)\n",
    "    cv_pred.append(roc_auc2)\n",
    "\n",
    "plt.plot(c_values, train_pred, 'b', label = \"Train AUC\")\n",
    "plt.plot(c_values, cv_pred, 'r', label = \"cross val\")\n",
    "\n",
    "plt.legend()\n",
    "\n",
    "plt.ylabel('AUC score')\n",
    "plt.xlabel('alpha')\n",
    "plt.show()"
   ]
  },
  {
   "cell_type": "code",
   "execution_count": 316,
   "metadata": {},
   "outputs": [
    {
     "name": "stdout",
     "output_type": "stream",
     "text": [
      "The optimal opt_C value is:  13\n"
     ]
    }
   ],
   "source": [
    "a = 0\n",
    "for i in range(len(cv_pred)):\n",
    "    if(cv_pred[i]> cv_pred[a]):\n",
    "        a = i\n",
    "opt_C = a*2 + 1  \n",
    "print(\"The optimal opt_C value is: \", opt_C)"
   ]
  },
  {
   "cell_type": "code",
   "execution_count": 317,
   "metadata": {},
   "outputs": [],
   "source": [
    "model = SVC(C= opt_C,class_weight = 'balanced', kernel='rbf', gamma='auto')\n",
    "model = CalibratedClassifierCV(model, method='sigmoid')\n",
    "model.fit(X_train, y_train)\n",
    "prediction = model.predict(X_test)"
   ]
  },
  {
   "cell_type": "code",
   "execution_count": 318,
   "metadata": {},
   "outputs": [
    {
     "data": {
      "image/png": "[encoded data removed]",
      "text/plain": [
       "<Figure size 432x288 with 1 Axes>"
      ]
     },
     "metadata": {},
     "output_type": "display_data"
    }
   ],
   "source": [
    "tra_pred = model.predict_proba(X_train)[:,1]\n",
    "fpr, tpr, thresholds = roc_curve(y_train,tra_pred)\n",
    "roc_auc = auc(fpr, tpr)\n",
    "\n",
    "test_pred = model.predict_proba(X_test)[:,1]\n",
    "fpr2, tpr2, thresholds2 = roc_curve(y_test,test_pred)\n",
    "roc_auc2 = auc(fpr2, tpr2)\n",
    "\n",
    "plt.title('Receiver Operating Characteristic')\n",
    "plt.plot(fpr, tpr, 'b',label='Train AUC = %0.2f'% roc_auc)\n",
    "plt.plot(fpr2, tpr2, 'r',label='Test AUC = %0.2f'% roc_auc2)\n",
    "plt.legend(loc='lower right')\n",
    "plt.plot([0,1],[0,1],'g--')\n",
    "#plt.xlim([-0.1,1.2])\n",
    "#plt.ylim([-0.1,1.2])\n",
    "plt.ylabel('True Positive Rate')\n",
    "plt.xlabel('False Positive Rate')\n",
    "plt.show()"
   ]
  },
  {
   "cell_type": "code",
   "execution_count": 319,
   "metadata": {},
   "outputs": [],
   "source": [
    "model = SVC(C = opt_C,class_weight = 'balanced', kernel='rbf', gamma='auto')\n",
    "model.fit(X_train, y_train)\n",
    "prediction = model.predict(X_test)"
   ]
  },
  {
   "cell_type": "code",
   "execution_count": 320,
   "metadata": {},
   "outputs": [],
   "source": [
    "bow_features = count_vect.get_feature_names()\n",
    "log_prob = model.support_  \n",
    "#feature_prob = pd.DataFrame(log_prob, columns = bow_features)\n",
    "#feature_prob_tr = feature_prob.T\n",
    "#feature_prob_tr.shape"
   ]
  },
  {
   "cell_type": "code",
   "execution_count": 321,
   "metadata": {},
   "outputs": [
    {
     "name": "stdout",
     "output_type": "stream",
     "text": [
      "Classification Report: \n",
      "\n",
      "              precision    recall  f1-score   support\n",
      "\n",
      "           0       0.57      0.85      0.68      1956\n",
      "           1       0.97      0.87      0.92     10044\n",
      "\n",
      "    accuracy                           0.87     12000\n",
      "   macro avg       0.77      0.86      0.80     12000\n",
      "weighted avg       0.90      0.87      0.88     12000\n",
      "\n"
     ]
    }
   ],
   "source": [
    "print(\"Classification Report: \\n\")\n",
    "print(classification_report(y_test, prediction))"
   ]
  },
  {
   "cell_type": "code",
   "execution_count": 322,
   "metadata": {},
   "outputs": [
    {
     "data": {
      "image/png": "[encoded data removed]",
      "text/plain": [
       "<Figure size 432x288 with 2 Axes>"
      ]
     },
     "metadata": {},
     "output_type": "display_data"
    }
   ],
   "source": [
    "conf_matrix = confusion_matrix(y_test, prediction)\n",
    "class_label = ['negative', 'positive']\n",
    "df_conf_matrix = pd.DataFrame(\n",
    "    conf_matrix, index=class_label, columns=class_label)\n",
    "sb.heatmap(df_conf_matrix, annot=True, fmt='d')\n",
    "plt.title(\"Confusion Matrix\")\n",
    "plt.xlabel(\"Predicted\")\n",
    "plt.ylabel(\"Actual\")\n",
    "plt.show()"
   ]
  },
  {
   "cell_type": "markdown",
   "metadata": {},
   "source": [
    "### Feature Importance"
   ]
  },
  {
   "cell_type": "code",
   "execution_count": 323,
   "metadata": {},
   "outputs": [
    {
     "name": "stdout",
     "output_type": "stream",
     "text": [
      "Top 10 Negative Features:-\n",
      " great        5.593841\n",
      "delicious    4.303405\n",
      "good         3.714853\n",
      "the best     3.393497\n",
      "perfect      3.362319\n",
      "best         3.224859\n",
      "nice         3.164940\n",
      "excellent    3.059917\n",
      "not too      2.888390\n",
      "love         2.869981\n",
      "Name: 0, dtype: float64\n",
      "\n",
      "\n",
      " Top 10 Positive Features:-\n",
      " not             -4.454696\n",
      "disappointed    -3.131377\n",
      "awful           -3.104140\n",
      "terrible        -2.916941\n",
      "horrible        -2.733745\n",
      "disappointing   -2.685511\n",
      "not worth       -2.674624\n",
      "bad             -2.609059\n",
      "worst           -2.543513\n",
      "unfortunately   -2.542035\n",
      "Name: 0, dtype: float64\n"
     ]
    }
   ],
   "source": [
    "# To show top 10 feature from both class\n",
    "# Feature Importance\n",
    "print(\"Top 10 Negative Features:-\\n\",feature_prob_tr[0].sort_values(ascending = False)[0:10])\n",
    "print(\"\\n\\n Top 10 Positive Features:-\\n\",feature_prob_tr[1].sort_values(ascending = True)[0:10])"
   ]
  },
  {
   "cell_type": "markdown",
   "metadata": {},
   "source": [
    "### Applying RBF SVM on TFIDF, SET 2"
   ]
  },
  {
   "cell_type": "code",
   "execution_count": 324,
   "metadata": {},
   "outputs": [],
   "source": [
    "# split the data set into train and test\n",
    "X_train, X_test, y_train, y_test = train_test_split(x, y, test_size=0.3, random_state=0)\n",
    "X_train, X_cv, y_train, y_cv = train_test_split(X_train, y_train, test_size=0.3)"
   ]
  },
  {
   "cell_type": "code",
   "execution_count": 325,
   "metadata": {},
   "outputs": [],
   "source": [
    "# Initializing tfidf vectorizer\n",
    "tfidf_vect = TfidfVectorizer(ngram_range=(1, 2), min_df=10, max_features = 500)\n",
    "\n",
    "# Fitting for tfidf vectorization\n",
    "X_train = tfidf_vect.fit_transform(X_train)\n",
    "X_cv = tfidf_vect.transform(X_cv)\n",
    "X_test = tfidf_vect.transform(X_test)\n",
    "\n",
    "\n",
    "#print(\"the type of count vectorizer \",type(final_tf_idf))\n",
    "#print(\"the shape of out text TFIDF vectorizer \",final_tf_idf.get_shape())\n",
    "#print(\"the number of unique words including both unigrams and bigrams \", final_tf_idf.get_shape()[1])"
   ]
  },
  {
   "cell_type": "code",
   "execution_count": 326,
   "metadata": {},
   "outputs": [
    {
     "data": {
      "image/png": "[encoded data removed]",
      "text/plain": [
       "<Figure size 432x288 with 1 Axes>"
      ]
     },
     "metadata": {},
     "output_type": "display_data"
    }
   ],
   "source": [
    "\n",
    "\n",
    "c_values = []\n",
    "alpha        = 0.0001\n",
    "while(alpha <= 1000):\n",
    "    c_values.append(np.round(alpha,4))\n",
    "    alpha *= 10\n",
    "    \n",
    "train_pred = []\n",
    "cv_pred    = []\n",
    "for C in c_values:\n",
    "    model = SVC(C = C,class_weight = 'balanced', kernel='rbf', gamma='auto')\n",
    "    model = CalibratedClassifierCV(model, method='sigmoid')\n",
    "    model.fit(X_train, y_train)\n",
    "    \n",
    "    #train \n",
    "    train_pre = model.predict_proba(X_train)[:,1]\n",
    "    roc_auc    =  roc_auc_score(y_train, train_pre)\n",
    "    #np.append(train_pred,roc_auc) \n",
    "    train_pred.append(roc_auc)\n",
    "    \n",
    "    \n",
    "    #cross val\n",
    "    cv_pre    = model.predict_proba(X_cv)[:,1]\n",
    "    roc_auc2    =  roc_auc_score(y_cv, cv_pre)\n",
    "    #np.append(cv_pred,roc_auc2)\n",
    "    cv_pred.append(roc_auc2)\n",
    "\n",
    "plt.plot(c_values, train_pred, 'b', label = \"Train AUC\")\n",
    "plt.plot(c_values, cv_pred, 'r', label = \"cross val\")\n",
    "\n",
    "plt.legend()\n",
    "\n",
    "plt.ylabel('AUC score')\n",
    "plt.xlabel('alpha')\n",
    "plt.show()\n"
   ]
  },
  {
   "cell_type": "code",
   "execution_count": 327,
   "metadata": {},
   "outputs": [
    {
     "name": "stdout",
     "output_type": "stream",
     "text": [
      "The optimal opt_C value is:  13\n"
     ]
    }
   ],
   "source": [
    "a = 0\n",
    "for i in range(len(cv_pred)):\n",
    "    if(cv_pred[i]> cv_pred[a]):\n",
    "        a = i\n",
    "opt_C = a*2 + 1  \n",
    "print(\"The optimal opt_C value is: \", opt_C)"
   ]
  },
  {
   "cell_type": "code",
   "execution_count": 328,
   "metadata": {},
   "outputs": [
    {
     "data": {
      "text/plain": [
       "CalibratedClassifierCV(base_estimator=SVC(C=13, cache_size=200,\n",
       "                                          class_weight='balanced', coef0=0.0,\n",
       "                                          decision_function_shape='ovr',\n",
       "                                          degree=3, gamma='auto', kernel='rbf',\n",
       "                                          max_iter=-1, probability=False,\n",
       "                                          random_state=None, shrinking=True,\n",
       "                                          tol=0.001, verbose=False),\n",
       "                       cv='warn', method='sigmoid')"
      ]
     },
     "execution_count": 328,
     "metadata": {},
     "output_type": "execute_result"
    }
   ],
   "source": [
    "model = SVC(C= opt_C,class_weight = 'balanced', kernel='rbf', gamma='auto')\n",
    "model = CalibratedClassifierCV(model, method='sigmoid')\n",
    "model.fit(X_train, y_train)"
   ]
  },
  {
   "cell_type": "code",
   "execution_count": 329,
   "metadata": {},
   "outputs": [
    {
     "data": {
      "image/png": "[encoded data removed]",
      "text/plain": [
       "<Figure size 432x288 with 1 Axes>"
      ]
     },
     "metadata": {},
     "output_type": "display_data"
    }
   ],
   "source": [
    "tra_pred = model.predict_proba(X_train)[:,1]\n",
    "fpr, tpr, thresholds = roc_curve(y_train,tra_pred)\n",
    "roc_auc = auc(fpr, tpr)\n",
    "\n",
    "test_pred = model.predict_proba(X_test)[:,1]\n",
    "fpr2, tpr2, thresholds2 = roc_curve(y_test,test_pred)\n",
    "roc_auc2 = auc(fpr2, tpr2)\n",
    "\n",
    "plt.title('Receiver Operating Characteristic')\n",
    "plt.plot(fpr, tpr, 'b',label='Train AUC = %0.2f'% roc_auc)\n",
    "plt.plot(fpr2, tpr2, 'r',label='Test AUC = %0.2f'% roc_auc2)\n",
    "plt.legend(loc='lower right')\n",
    "plt.plot([0,1],[0,1],'g--')\n",
    "#plt.xlim([-0.1,1.2])\n",
    "#plt.ylim([-0.1,1.2])\n",
    "plt.ylabel('True Positive Rate')\n",
    "plt.xlabel('False Positive Rate')\n",
    "plt.show()"
   ]
  },
  {
   "cell_type": "code",
   "execution_count": 330,
   "metadata": {},
   "outputs": [],
   "source": [
    "model = SVC(C= opt_C,class_weight = 'balanced', kernel='rbf', gamma='auto')\n",
    "model.fit(X_train, y_train)\n",
    "prediction = model.predict(X_test)"
   ]
  },
  {
   "cell_type": "code",
   "execution_count": 331,
   "metadata": {},
   "outputs": [],
   "source": [
    "bow_features = tfidf_vect.get_feature_names()\n",
    "log_prob = model.support_  \n",
    "#feature_prob = pd.DataFrame(log_prob, columns = bow_features)\n",
    "#feature_prob_tr = feature_prob.T\n",
    "#feature_prob_tr.shape"
   ]
  },
  {
   "cell_type": "code",
   "execution_count": 332,
   "metadata": {},
   "outputs": [
    {
     "name": "stdout",
     "output_type": "stream",
     "text": [
      "Classification Report: \n",
      "\n",
      "              precision    recall  f1-score   support\n",
      "\n",
      "           0       0.44      0.84      0.58      1956\n",
      "           1       0.96      0.79      0.87     10044\n",
      "\n",
      "    accuracy                           0.80     12000\n",
      "   macro avg       0.70      0.81      0.72     12000\n",
      "weighted avg       0.88      0.80      0.82     12000\n",
      "\n"
     ]
    }
   ],
   "source": [
    "print(\"Classification Report: \\n\")\n",
    "print(classification_report(y_test, prediction))"
   ]
  },
  {
   "cell_type": "code",
   "execution_count": 333,
   "metadata": {},
   "outputs": [
    {
     "data": {
      "image/png": "[encoded data removed]",
      "text/plain": [
       "<Figure size 432x288 with 2 Axes>"
      ]
     },
     "metadata": {},
     "output_type": "display_data"
    }
   ],
   "source": [
    "conf_matrix = confusion_matrix(y_test, prediction)\n",
    "class_label = ['negative', 'positive']\n",
    "df_conf_matrix = pd.DataFrame(\n",
    "    conf_matrix, index=class_label, columns=class_label)\n",
    "sb.heatmap(df_conf_matrix, annot=True, fmt='d')\n",
    "plt.title(\"Confusion Matrix\")\n",
    "plt.xlabel(\"Predicted\")\n",
    "plt.ylabel(\"Actual\")\n",
    "plt.show()"
   ]
  },
  {
   "cell_type": "code",
   "execution_count": 334,
   "metadata": {},
   "outputs": [
    {
     "name": "stdout",
     "output_type": "stream",
     "text": [
      "Top 10 Negative Features:-\n",
      " great        5.593841\n",
      "delicious    4.303405\n",
      "good         3.714853\n",
      "the best     3.393497\n",
      "perfect      3.362319\n",
      "best         3.224859\n",
      "nice         3.164940\n",
      "excellent    3.059917\n",
      "not too      2.888390\n",
      "love         2.869981\n",
      "Name: 0, dtype: float64\n",
      "\n",
      "\n",
      " Top 10 Positive Features:-\n",
      " not             -4.454696\n",
      "disappointed    -3.131377\n",
      "awful           -3.104140\n",
      "terrible        -2.916941\n",
      "horrible        -2.733745\n",
      "disappointing   -2.685511\n",
      "not worth       -2.674624\n",
      "bad             -2.609059\n",
      "worst           -2.543513\n",
      "unfortunately   -2.542035\n",
      "Name: 0, dtype: float64\n"
     ]
    }
   ],
   "source": [
    "# To show top 10 feature from both class\n",
    "# Feature Importance\n",
    "print(\"Top 10 Negative Features:-\\n\",feature_prob_tr[0].sort_values(ascending = False)[0:10])\n",
    "print(\"\\n\\n Top 10 Positive Features:-\\n\",feature_prob_tr[1].sort_values(ascending = True)[0:10])"
   ]
  },
  {
   "cell_type": "markdown",
   "metadata": {},
   "source": [
    "### Applying RBF SVM on AVG W2V, SET 3"
   ]
  },
  {
   "cell_type": "code",
   "execution_count": 335,
   "metadata": {},
   "outputs": [],
   "source": [
    "# split the data set into train and test\n",
    "X_train, X_test, y_train, y_test = train_test_split(x, y, test_size=0.3, random_state=0)\n",
    "X_train, X_cv, y_train, y_cv = train_test_split(X_train, y_train, test_size=0.3)"
   ]
  },
  {
   "cell_type": "code",
   "execution_count": 336,
   "metadata": {},
   "outputs": [
    {
     "name": "stdout",
     "output_type": "stream",
     "text": [
      "The size of the corpus is:  19600\n"
     ]
    },
    {
     "name": "stderr",
     "output_type": "stream",
     "text": [
      "100%|████████████████████████████████████████████████████████████████████████████| 19600/19600 [03:46<00:00, 86.60it/s]\n",
      "100%|████████████████████████████████████████████████████████████████████████████| 12000/12000 [02:17<00:00, 87.09it/s]\n",
      "100%|██████████████████████████████████████████████████████████████████████████████| 8400/8400 [01:35<00:00, 87.52it/s]\n"
     ]
    }
   ],
   "source": [
    "def standardize(data):    \n",
    "    from sklearn.preprocessing import StandardScaler\n",
    "    scalar = StandardScaler()\n",
    "    std = scalar.fit_transform(data)\n",
    "    return (std)\n",
    "\n",
    "word2vec_corpus=[]\n",
    "for sentence in X_train:\n",
    "    word2vec_corpus.append(sentence.split()) \n",
    "print(\"The size of the corpus is: \",len(word2vec_corpus))\n",
    "\n",
    "word2vec_model=Word2Vec(sentences=word2vec_corpus, size=200, min_count=5, workers=6) \n",
    "word2vec_words = list(word2vec_model.wv.vocab)                                       \n",
    "\n",
    "def vect_w2v(dataset, word2vec_model, word2vec_words):\n",
    "    word2vec_corpus=[]\n",
    "    for sentence in dataset:\n",
    "        word2vec_corpus.append(sentence.split()) \n",
    "    \n",
    "    sent_vectors = []; \n",
    "    for sentence in tqdm(word2vec_corpus): \n",
    "        sent_vec = np.zeros(200) \n",
    "        count_words =0; \n",
    "        for word in sentence: \n",
    "            if word in word2vec_words:\n",
    "                word_vectors = word2vec_model.wv[word] \n",
    "                sent_vec += word_vectors\n",
    "                count_words += 1\n",
    "        if count_words != 0:\n",
    "            sent_vec /= count_words\n",
    "        sent_vectors.append(sent_vec)\n",
    "    sent_vectors = np.array(sent_vectors)\n",
    "    return sent_vectors\n",
    "\n",
    "\n",
    "X_train = vect_w2v(X_train, word2vec_model, word2vec_words)\n",
    "X_test = vect_w2v(X_test, word2vec_model, word2vec_words)\n",
    "X_cv = vect_w2v(X_cv, word2vec_model, word2vec_words)\n",
    "\n",
    "X_train = standardize(X_train)\n",
    "X_test = standardize(X_test)\n",
    "X_cv = standardize(X_cv)"
   ]
  },
  {
   "cell_type": "code",
   "execution_count": 337,
   "metadata": {},
   "outputs": [
    {
     "data": {
      "image/png": "[encoded data removed]",
      "text/plain": [
       "<Figure size 432x288 with 1 Axes>"
      ]
     },
     "metadata": {},
     "output_type": "display_data"
    }
   ],
   "source": [
    "c_values = []\n",
    "alpha        = 0.0001\n",
    "while(alpha <= 1000):\n",
    "    c_values.append(np.round(alpha,4))\n",
    "    alpha *= 10\n",
    "    \n",
    "train_pred = []\n",
    "cv_pred    = []\n",
    "for C in c_values:\n",
    "    model = SVC(C=C,class_weight = 'balanced', kernel='rbf', gamma='auto')\n",
    "    model = CalibratedClassifierCV(model, method='sigmoid')\n",
    "    model.fit(X_train, y_train)\n",
    "    \n",
    "    #train \n",
    "    train_pre = model.predict_proba(X_train)[:,1]\n",
    "    roc_auc    =  roc_auc_score(y_train, train_pre)\n",
    "    #np.append(train_pred,roc_auc) \n",
    "    train_pred.append(roc_auc)\n",
    "    \n",
    "    \n",
    "    #cross val\n",
    "    cv_pre    = model.predict_proba(X_cv)[:,1]\n",
    "    roc_auc2    =  roc_auc_score(y_cv, cv_pre)\n",
    "    #np.append(cv_pred,roc_auc2)\n",
    "    cv_pred.append(roc_auc2)\n",
    "\n",
    "plt.plot(c_values, train_pred, 'b', label = \"Train AUC\")\n",
    "plt.plot(c_values, cv_pred, 'r', label = \"cross val\")\n",
    "\n",
    "plt.legend()\n",
    "\n",
    "plt.ylabel('AUC score')\n",
    "plt.xlabel('alpha')\n",
    "plt.show()"
   ]
  },
  {
   "cell_type": "code",
   "execution_count": 338,
   "metadata": {},
   "outputs": [
    {
     "name": "stdout",
     "output_type": "stream",
     "text": [
      "The optimal opt_C value is:  9\n"
     ]
    }
   ],
   "source": [
    "a = 0\n",
    "for i in range(len(cv_pred)):\n",
    "    if(cv_pred[i]> cv_pred[a]):\n",
    "        a = i\n",
    "opt_C = a*2 + 1  \n",
    "print(\"The optimal opt_C value is: \", opt_C)"
   ]
  },
  {
   "cell_type": "code",
   "execution_count": 339,
   "metadata": {},
   "outputs": [
    {
     "data": {
      "text/plain": [
       "CalibratedClassifierCV(base_estimator=SVC(C=9, cache_size=200,\n",
       "                                          class_weight='balanced', coef0=0.0,\n",
       "                                          decision_function_shape='ovr',\n",
       "                                          degree=3, gamma='auto', kernel='rbf',\n",
       "                                          max_iter=-1, probability=False,\n",
       "                                          random_state=None, shrinking=True,\n",
       "                                          tol=0.001, verbose=False),\n",
       "                       cv='warn', method='sigmoid')"
      ]
     },
     "execution_count": 339,
     "metadata": {},
     "output_type": "execute_result"
    }
   ],
   "source": [
    "model = SVC(C= opt_C,class_weight = 'balanced', kernel='rbf', gamma='auto')\n",
    "model = CalibratedClassifierCV(model, method='sigmoid')\n",
    "model.fit(X_train, y_train)"
   ]
  },
  {
   "cell_type": "code",
   "execution_count": 340,
   "metadata": {},
   "outputs": [
    {
     "data": {
      "image/png": "[encoded data removed]",
      "text/plain": [
       "<Figure size 432x288 with 1 Axes>"
      ]
     },
     "metadata": {},
     "output_type": "display_data"
    }
   ],
   "source": [
    "tra_pred = model.predict_proba(X_train)[:,1]\n",
    "fpr, tpr, thresholds = roc_curve(y_train,tra_pred)\n",
    "roc_auc = auc(fpr, tpr)\n",
    "\n",
    "test_pred = model.predict_proba(X_test)[:,1]\n",
    "fpr2, tpr2, thresholds2 = roc_curve(y_test,test_pred)\n",
    "roc_auc2 = auc(fpr2, tpr2)\n",
    "\n",
    "plt.title('Receiver Operating Characteristic')\n",
    "plt.plot(fpr, tpr, 'b',label='Train AUC = %0.2f'% roc_auc)\n",
    "plt.plot(fpr2, tpr2, 'r',label='Test AUC = %0.2f'% roc_auc2)\n",
    "plt.legend(loc='lower right')\n",
    "plt.plot([0,1],[0,1],'g--')\n",
    "#plt.xlim([-0.1,1.2])\n",
    "#plt.ylim([-0.1,1.2])\n",
    "plt.ylabel('True Positive Rate')\n",
    "plt.xlabel('False Positive Rate')\n",
    "plt.show()"
   ]
  },
  {
   "cell_type": "code",
   "execution_count": 341,
   "metadata": {},
   "outputs": [],
   "source": [
    "model = SVC(C = opt_C,class_weight = 'balanced', kernel='rbf', gamma='auto')\n",
    "model.fit(X_train, y_train)\n",
    "prediction = model.predict(X_test)"
   ]
  },
  {
   "cell_type": "code",
   "execution_count": 342,
   "metadata": {},
   "outputs": [
    {
     "name": "stdout",
     "output_type": "stream",
     "text": [
      "Classification Report: \n",
      "\n",
      "              precision    recall  f1-score   support\n",
      "\n",
      "           0       0.46      0.62      0.53      1956\n",
      "           1       0.92      0.86      0.89     10044\n",
      "\n",
      "    accuracy                           0.82     12000\n",
      "   macro avg       0.69      0.74      0.71     12000\n",
      "weighted avg       0.85      0.82      0.83     12000\n",
      "\n"
     ]
    }
   ],
   "source": [
    "print(\"Classification Report: \\n\")\n",
    "print(classification_report(y_test, prediction))"
   ]
  },
  {
   "cell_type": "code",
   "execution_count": 343,
   "metadata": {},
   "outputs": [
    {
     "data": {
      "image/png": "[encoded data removed]",
      "text/plain": [
       "<Figure size 432x288 with 2 Axes>"
      ]
     },
     "metadata": {},
     "output_type": "display_data"
    }
   ],
   "source": [
    "conf_matrix = confusion_matrix(y_test, prediction)\n",
    "class_label = ['negative', 'positive']\n",
    "df_conf_matrix = pd.DataFrame(\n",
    "    conf_matrix, index=class_label, columns=class_label)\n",
    "sb.heatmap(df_conf_matrix, annot=True, fmt='d')\n",
    "plt.title(\"Confusion Matrix\")\n",
    "plt.xlabel(\"Predicted\")\n",
    "plt.ylabel(\"Actual\")\n",
    "plt.show()"
   ]
  },
  {
   "cell_type": "markdown",
   "metadata": {},
   "source": [
    "### Applying Linear SVM on TFIDF W2V, SET 4"
   ]
  },
  {
   "cell_type": "code",
   "execution_count": 344,
   "metadata": {},
   "outputs": [],
   "source": [
    "# split the data set into train and test\n",
    "X_train, X_test, y_train, y_test = train_test_split(x, y, test_size=0.3, random_state=0)\n",
    "X_train, X_cv, y_train, y_cv = train_test_split(X_train, y_train, test_size=0.3)"
   ]
  },
  {
   "cell_type": "code",
   "execution_count": 345,
   "metadata": {},
   "outputs": [
    {
     "name": "stderr",
     "output_type": "stream",
     "text": [
      "100%|████████████████████████████████████████████████████████████████████████████| 19600/19600 [39:04<00:00,  6.26it/s]\n",
      "100%|████████████████████████████████████████████████████████████████████████████| 12000/12000 [21:53<00:00,  8.49it/s]\n",
      "100%|██████████████████████████████████████████████████████████████████████████████| 8400/8400 [15:31<00:00,  9.02it/s]\n"
     ]
    }
   ],
   "source": [
    "word2vec_corpus = []\n",
    "for sentence in X_train:\n",
    "    word2vec_corpus.append(sentence.split())\n",
    "\n",
    "word2vec_model = Word2Vec(sentences=word2vec_corpus, size=200, min_count=5, workers=8)\n",
    "word2vec_words = list(word2vec_model.wv.vocab)\n",
    "\n",
    "tf_idf = TfidfVectorizer(ngram_range=(1,1)).fit(X_train)\n",
    "\n",
    "\n",
    "def vect_tfidf_w2v(dataset, tf_idf_object, word2vec_model, word2vec_words):\n",
    "\n",
    "    word2vec_corpus=[]\n",
    "    for sentence in dataset:\n",
    "        word2vec_corpus.append(sentence.split())\n",
    "\n",
    "    tf_idf_matrix = tf_idf_object.transform(dataset)\n",
    "    tfidf_features = tf_idf_object.get_feature_names() \n",
    "    \n",
    "    dictionary = dict(zip(tf_idf_object.get_feature_names(), list(tf_idf_object.idf_)))\n",
    "    \n",
    "    tfidf_sent_vectors = []; \n",
    "    row=0;\n",
    "    for sentence in tqdm(word2vec_corpus): \n",
    "        sent_vec = np.zeros(200) \n",
    "        weight_sum = 0;\n",
    "        for word in sentence: \n",
    "            if((word in word2vec_words) and (word in tfidf_features)):\n",
    "                word_vectors = word2vec_model.wv[word]\n",
    "                tf_idf = dictionary[word]*(sentence.count(word)/len(sentence)) \n",
    "                sent_vec += (word_vectors * tf_idf)                           \n",
    "                weight_sum += tf_idf\n",
    "        if weight_sum != 0:\n",
    "            sent_vec /= weight_sum\n",
    "        tfidf_sent_vectors.append(sent_vec)\n",
    "        row += 1\n",
    "\n",
    "    tfidf_sent_vectors = np.array(tfidf_sent_vectors)\n",
    "    return tfidf_sent_vectors\n",
    "\n",
    "\n",
    "X_train = vect_tfidf_w2v(X_train, tf_idf, word2vec_model, word2vec_words)\n",
    "X_test  = vect_tfidf_w2v(X_test, tf_idf, word2vec_model, word2vec_words)\n",
    "X_cv    = vect_tfidf_w2v(X_cv, tf_idf, word2vec_model, word2vec_words)\n",
    "\n",
    "\n",
    "X_train = standardize(X_train)\n",
    "X_test  = standardize(X_test)\n",
    "X_cv    = standardize(X_cv)"
   ]
  },
  {
   "cell_type": "code",
   "execution_count": 346,
   "metadata": {},
   "outputs": [
    {
     "data": {
      "image/png": "[encoded data removed]",
      "text/plain": [
       "<Figure size 432x288 with 1 Axes>"
      ]
     },
     "metadata": {},
     "output_type": "display_data"
    }
   ],
   "source": [
    "c_values = []\n",
    "alpha        = 0.0001\n",
    "while(alpha <= 10000):\n",
    "    c_values.append(np.round(alpha,4))\n",
    "    alpha *= 10\n",
    "    \n",
    "train_pred = []\n",
    "cv_pred    = []\n",
    "for C in c_values:\n",
    "    model = SVC(C=C,class_weight = 'balanced', kernel='rbf', gamma='auto')\n",
    "    model = CalibratedClassifierCV(model, method='sigmoid')\n",
    "    model.fit(X_train, y_train)\n",
    "    \n",
    "    #train \n",
    "    train_pre = model.predict_proba(X_train)[:,1]\n",
    "    roc_auc    =  roc_auc_score(y_train, train_pre)\n",
    "    #np.append(train_pred,roc_auc) \n",
    "    train_pred.append(roc_auc)\n",
    "    \n",
    "    \n",
    "    #cross val\n",
    "    cv_pre    = model.predict_proba(X_cv)[:,1]\n",
    "    roc_auc2    =  roc_auc_score(y_cv, cv_pre)\n",
    "    #np.append(cv_pred,roc_auc2)\n",
    "    cv_pred.append(roc_auc2)\n",
    "\n",
    "plt.plot(c_values, train_pred, 'b', label = \"Train AUC\")\n",
    "plt.plot(c_values, cv_pred, 'r', label = \"cross val\")\n",
    "\n",
    "plt.legend()\n",
    "\n",
    "plt.ylabel('AUC score')\n",
    "plt.xlabel('alpha')\n",
    "plt.show()"
   ]
  },
  {
   "cell_type": "code",
   "execution_count": 347,
   "metadata": {},
   "outputs": [
    {
     "name": "stdout",
     "output_type": "stream",
     "text": [
      "The optimal opt_C value is:  9\n"
     ]
    }
   ],
   "source": [
    "a = 0\n",
    "for i in range(len(cv_pred)):\n",
    "    if(cv_pred[i]> cv_pred[a]):\n",
    "        a = i\n",
    "opt_C = a*2 + 1  \n",
    "print(\"The optimal opt_C value is: \", opt_C)"
   ]
  },
  {
   "cell_type": "code",
   "execution_count": 348,
   "metadata": {},
   "outputs": [
    {
     "data": {
      "text/plain": [
       "CalibratedClassifierCV(base_estimator=SVC(C=9, cache_size=200,\n",
       "                                          class_weight='balanced', coef0=0.0,\n",
       "                                          decision_function_shape='ovr',\n",
       "                                          degree=3, gamma='auto', kernel='rbf',\n",
       "                                          max_iter=-1, probability=False,\n",
       "                                          random_state=None, shrinking=True,\n",
       "                                          tol=0.001, verbose=False),\n",
       "                       cv='warn', method='sigmoid')"
      ]
     },
     "execution_count": 348,
     "metadata": {},
     "output_type": "execute_result"
    }
   ],
   "source": [
    "model = SVC(C= opt_C,class_weight = 'balanced', kernel='rbf', gamma='auto')\n",
    "model = CalibratedClassifierCV(model, method='sigmoid')\n",
    "model.fit(X_train, y_train)"
   ]
  },
  {
   "cell_type": "code",
   "execution_count": 349,
   "metadata": {},
   "outputs": [
    {
     "data": {
      "image/png": "[encoded data removed]",
      "text/plain": [
       "<Figure size 432x288 with 1 Axes>"
      ]
     },
     "metadata": {},
     "output_type": "display_data"
    }
   ],
   "source": [
    "tra_pred = model.predict_proba(X_train)[:,1]\n",
    "fpr, tpr, thresholds = roc_curve(y_train,tra_pred)\n",
    "roc_auc = auc(fpr, tpr)\n",
    "\n",
    "test_pred = model.predict_proba(X_test)[:,1]\n",
    "fpr2, tpr2, thresholds2 = roc_curve(y_test,test_pred)\n",
    "roc_auc2 = auc(fpr2, tpr2)\n",
    "\n",
    "plt.title('Receiver Operating Characteristic')\n",
    "plt.plot(fpr, tpr, 'b',label='Train AUC = %0.2f'% roc_auc)\n",
    "plt.plot(fpr2, tpr2, 'r',label='Test AUC = %0.2f'% roc_auc2)\n",
    "plt.legend(loc='lower right')\n",
    "plt.plot([0,1],[0,1],'g--')\n",
    "#plt.xlim([-0.1,1.2])\n",
    "#plt.ylim([-0.1,1.2])\n",
    "plt.ylabel('True Positive Rate')\n",
    "plt.xlabel('False Positive Rate')\n",
    "plt.show()"
   ]
  },
  {
   "cell_type": "code",
   "execution_count": 350,
   "metadata": {},
   "outputs": [],
   "source": [
    "model = SVC(C = opt_C,class_weight = 'balanced', kernel='rbf', gamma='auto')\n",
    "model.fit(X_train, y_train)\n",
    "prediction = model.predict(X_test)"
   ]
  },
  {
   "cell_type": "code",
   "execution_count": 351,
   "metadata": {},
   "outputs": [
    {
     "name": "stdout",
     "output_type": "stream",
     "text": [
      "Classification Report: \n",
      "\n",
      "              precision    recall  f1-score   support\n",
      "\n",
      "           0       0.43      0.59      0.50      1956\n",
      "           1       0.91      0.85      0.88     10044\n",
      "\n",
      "    accuracy                           0.80     12000\n",
      "   macro avg       0.67      0.72      0.69     12000\n",
      "weighted avg       0.84      0.80      0.82     12000\n",
      "\n"
     ]
    }
   ],
   "source": [
    "print(\"Classification Report: \\n\")\n",
    "print(classification_report(y_test, prediction))"
   ]
  },
  {
   "cell_type": "code",
   "execution_count": 352,
   "metadata": {},
   "outputs": [
    {
     "data": {
      "image/png": "[encoded data removed]",
      "text/plain": [
       "<Figure size 432x288 with 2 Axes>"
      ]
     },
     "metadata": {},
     "output_type": "display_data"
    }
   ],
   "source": [
    "conf_matrix = confusion_matrix(y_test, prediction)\n",
    "class_label = ['negative', 'positive']\n",
    "df_conf_matrix = pd.DataFrame(\n",
    "    conf_matrix, index=class_label, columns=class_label)\n",
    "sb.heatmap(df_conf_matrix, annot=True, fmt='d')\n",
    "plt.title(\"Confusion Matrix\")\n",
    "plt.xlabel(\"Predicted\")\n",
    "plt.ylabel(\"Actual\")\n",
    "plt.show()"
   ]
  },
  {
   "cell_type": "markdown",
   "metadata": {},
   "source": [
    "### Conclusions"
   ]
  },
  {
   "cell_type": "markdown",
   "metadata": {},
   "source": [
    "### Linear SVM"
   ]
  },
  {
   "cell_type": "code",
   "execution_count": 353,
   "metadata": {},
   "outputs": [
    {
     "name": "stdout",
     "output_type": "stream",
     "text": [
      "+--------------+------------+------+\n",
      "|     Type     |   Model    | AUC  |\n",
      "+--------------+------------+------+\n",
      "| Bag of Words | Linear SVM | 0.94 |\n",
      "|    TF-IDF    | Linear SVM | 0.97 |\n",
      "|    AvgW2V    | Linear SVM | 0.88 |\n",
      "| TfidfAvgW2v  | Linear SVM | 0.84 |\n",
      "+--------------+------------+------+\n"
     ]
    }
   ],
   "source": [
    "from prettytable import PrettyTable\n",
    "x1 = PrettyTable()\n",
    "x1.field_names = [\"Type\",\"Model\", \"AUC\"]\n",
    "x1.add_row([\"Bag of Words\",\"Linear SVM\",0.94])\n",
    "x1.add_row([\"TF-IDF\",\"Linear SVM\",0.97])\n",
    "x1.add_row([\"AvgW2V\",\"Linear SVM\",0.88])\n",
    "x1.add_row([\"TfidfAvgW2v\",\"Linear SVM\",0.84])\n",
    "\n",
    "print(x1)"
   ]
  },
  {
   "cell_type": "markdown",
   "metadata": {},
   "source": [
    "### RBF SVM"
   ]
  },
  {
   "cell_type": "code",
   "execution_count": 354,
   "metadata": {},
   "outputs": [
    {
     "name": "stdout",
     "output_type": "stream",
     "text": [
      "+--------------+---------+------+\n",
      "|     Type     |  Model  | AUC  |\n",
      "+--------------+---------+------+\n",
      "| Bag of Words | RBF SVM | 0.93 |\n",
      "|    TF-IDF    | RBF SVM | 0.89 |\n",
      "|    AvgW2V    | RBF SVM | 0.85 |\n",
      "| TfidfAvgW2v  | RBF SVM | 0.82 |\n",
      "+--------------+---------+------+\n"
     ]
    }
   ],
   "source": [
    "x2 = PrettyTable()\n",
    "x2.field_names = [\"Type\",\"Model\", \"AUC\"]\n",
    "x2.add_row([\"Bag of Words\",\"RBF SVM\",0.93])\n",
    "x2.add_row([\"TF-IDF\",\"RBF SVM\",0.89])\n",
    "x2.add_row([\"AvgW2V\",\"RBF SVM\",0.85])\n",
    "x2.add_row([\"TfidfAvgW2v\",\"RBF SVM\",0.82])\n",
    "\n",
    "print(x2)"
   ]
  },
  {
   "cell_type": "code",
   "execution_count": null,
   "metadata": {},
   "outputs": [],
   "source": []
  }
 ],
 "metadata": {
  "kernelspec": {
   "display_name": "Python 3",
   "language": "python",
   "name": "python3"
  },
  "language_info": {
   "codemirror_mode": {
    "name": "ipython",
    "version": 3
   },
   "file_extension": ".py",
   "mimetype": "text/x-python",
   "name": "python",
   "nbconvert_exporter": "python",
   "pygments_lexer": "ipython3",
   "version": "3.6.5"
  }
 },
 "nbformat": 4,
 "nbformat_minor": 2
}
