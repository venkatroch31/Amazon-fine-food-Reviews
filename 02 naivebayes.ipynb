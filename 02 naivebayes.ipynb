{
 "cells": [
  {
   "cell_type": "code",
   "execution_count": 39,
   "metadata": {},
   "outputs": [],
   "source": [
    "import warnings\n",
    "warnings.filterwarnings(\"ignore\")\n",
    "import sqlite3\n",
    "import pandas as pd\n",
    "import re\n",
    "import nltk\n",
    "from nltk.corpus import stopwords\n",
    "import numpy as np\n",
    "from sklearn import cross_validation\n",
    "from sklearn.cross_validation import train_test_split\n",
    "from sklearn.neighbors import KNeighborsClassifier\n",
    "from sklearn.metrics import accuracy_score\n",
    "from sklearn.cross_validation import cross_val_score\n",
    "import matplotlib.pyplot as plt\n",
    "from sklearn.feature_extraction.text import CountVectorizer\n",
    "from sklearn.metrics import confusion_matrix\n",
    "import seaborn as sb\n",
    "from sklearn.metrics import classification_report\n",
    "from sklearn.feature_extraction.text import TfidfVectorizer\n",
    "from sklearn.preprocessing import StandardScaler\n",
    "import gensim\n",
    "from gensim.models import Word2Vec, KeyedVectors"
   ]
  },
  {
   "cell_type": "code",
   "execution_count": 2,
   "metadata": {},
   "outputs": [],
   "source": [
    "# using the SQLite Table to read data.\n",
    "con = sqlite3.connect('database.sqlite') \n",
    "#filtering only positive and negative reviews i.e. \n",
    "# not taking into consideration those reviews with Score=3\n",
    "filtered_data = pd.read_sql_query(\"\"\" SELECT * FROM Reviews WHERE Score != 3 \"\"\", con) \n",
    "# Give reviews with Score>3 a positive rating, and reviews with a score<3 a negative rating.\n",
    "def partition(x):\n",
    "    if x < 3:\n",
    "        return 0\n",
    "    return 1\n",
    "\n",
    "#changing reviews with score less than 3 to be positive and vice-versa\n",
    "actualScore = filtered_data['Score']\n",
    "positiveNegative = actualScore.map(partition) \n",
    "filtered_data['Score'] = positiveNegative"
   ]
  },
  {
   "cell_type": "code",
   "execution_count": 3,
   "metadata": {},
   "outputs": [
    {
     "name": "stdout",
     "output_type": "stream",
     "text": [
      "(525814, 10)\n"
     ]
    }
   ],
   "source": [
    "print(filtered_data.shape)"
   ]
  },
  {
   "cell_type": "markdown",
   "metadata": {},
   "source": [
    "## 1) Data Cleaning: Deduplication"
   ]
  },
  {
   "cell_type": "code",
   "execution_count": 4,
   "metadata": {},
   "outputs": [],
   "source": [
    "# Sorting data points according to the 'ProductId'\n",
    "sorted_data = filtered_data.sort_values('ProductId', axis=0, ascending=True, inplace=False, kind='quicksort', na_position='last')\n",
    "\n",
    "# Eliminating the duplicate data points based on: 'UserId', 'ProfileName', 'Time', 'Summary'\n",
    "final = sorted_data.drop_duplicates(subset={'UserId', 'ProfileName', 'Time', 'Summary'}, keep='first', inplace=False)\n",
    "# Eliminating the row where 'HelpfulnessDenominator' is greater than 'HelpfulnessNumerator' as these are the wrong entry\n",
    "final = final[final['HelpfulnessDenominator'] >= final['HelpfulnessNumerator']]\n",
    "# Getting shape of final data frame\n",
    "#display(final.shape)"
   ]
  },
  {
   "cell_type": "code",
   "execution_count": 5,
   "metadata": {},
   "outputs": [
    {
     "name": "stdout",
     "output_type": "stream",
     "text": [
      "(363224, 10)\n"
     ]
    },
    {
     "data": {
      "text/plain": [
       "1    306208\n",
       "0     57016\n",
       "Name: Score, dtype: int64"
      ]
     },
     "execution_count": 5,
     "metadata": {},
     "output_type": "execute_result"
    }
   ],
   "source": [
    "#Before starting the next phase of preprocessing lets see the number of entries left\n",
    "print(final.shape)\n",
    "\n",
    "#How many positive and negative reviews are present in our dataset?\n",
    "final['Score'].value_counts()"
   ]
  },
  {
   "cell_type": "markdown",
   "metadata": {},
   "source": [
    "## 2)Text Preprocessing\n",
    "Remove stop words\n",
    "\n",
    "Stemming\n",
    "\n",
    "Lematization\n",
    "\n",
    "Convert lower case"
   ]
  },
  {
   "cell_type": "code",
   "execution_count": 6,
   "metadata": {},
   "outputs": [],
   "source": [
    "# Creating the set of stopwords\n",
    "stop = set(stopwords.words('english'))\n",
    "\n",
    "# For stemming purpose\n",
    "snow = nltk.stem.SnowballStemmer('english')\n",
    "\n",
    "# Defining function to clean html tags\n",
    "def cleanhtml(sentence):\n",
    "    cleaner = re.compile('<.*>')\n",
    "    cleantext = re.sub(cleaner, ' ', sentence)\n",
    "    return cleantext\n",
    "\n",
    "# Defining function to remove special symbols\n",
    "def cleanpunc(sentence):\n",
    "    cleaned = re.sub(r'[?|.|!|*|@|#|\\'|\"|,|)|(|\\|/]', r'', sentence)\n",
    "    return cleaned\n"
   ]
  },
  {
   "cell_type": "code",
   "execution_count": 7,
   "metadata": {},
   "outputs": [
    {
     "data": {
      "text/plain": [
       "(363224, 10)"
      ]
     },
     "execution_count": 7,
     "metadata": {},
     "output_type": "execute_result"
    }
   ],
   "source": [
    "final.shape"
   ]
  },
  {
   "cell_type": "code",
   "execution_count": 8,
   "metadata": {},
   "outputs": [
    {
     "name": "stdout",
     "output_type": "stream",
     "text": [
      "6\n",
      "I set aside at least an hour each day to read to my son (3 y/o). At this point, I consider myself a connoisseur of children's books and this is one of the best. Santa Clause put this under the tree. Since then, we've read it perpetually and he loves it.<br /><br />First, this book taught him the months of the year.<br /><br />Second, it's a pleasure to read. Well suited to 1.5 y/o old to 4+.<br /><br />Very few children's books are worth owning. Most should be borrowed from the library. This book, however, deserves a permanent spot on your shelf. Sendak's best.\n"
     ]
    }
   ],
   "source": [
    "# find sentences containing HTML tags\n",
    "import re\n",
    "i=0;\n",
    "for sent in final['Text'].values:\n",
    "    if (len(re.findall('<.*?>', sent))):\n",
    "        print(i)\n",
    "        print(sent)\n",
    "        break;\n",
    "    i += 1;   "
   ]
  },
  {
   "cell_type": "code",
   "execution_count": 9,
   "metadata": {},
   "outputs": [
    {
     "data": {
      "text/plain": [
       "(363224, 10)"
      ]
     },
     "execution_count": 9,
     "metadata": {},
     "output_type": "execute_result"
    }
   ],
   "source": [
    "final.shape"
   ]
  },
  {
   "cell_type": "code",
   "execution_count": 10,
   "metadata": {
    "scrolled": true
   },
   "outputs": [
    {
     "name": "stdout",
     "output_type": "stream",
     "text": [
      "(363224, 11)\n"
     ]
    }
   ],
   "source": [
    "# Important steps to clean the text data. Please trace it out carefully\n",
    "i = 0\n",
    "str1 = ''\n",
    "all_positive_words = []\n",
    "all_negative_words = []\n",
    "final_string = []\n",
    "s=''\n",
    "for sent in final['Text'].values:\n",
    "    filtered_sentence = []\n",
    "    sent = cleanhtml(sent)\n",
    "    for w in sent.split():\n",
    "        for cleaned_words in cleanpunc(w).split():\n",
    "            if ((cleaned_words.isalpha()) & (len(cleaned_words)>2)):\n",
    "                if (cleaned_words.lower() not in stop):\n",
    "                    s = (snow.stem(cleaned_words.lower())).encode('utf-8')\n",
    "                    filtered_sentence.append(s)\n",
    "                    if (final['Score'].values)[i] == 1:\n",
    "                        all_positive_words.append(s)\n",
    "                    if (final['Score'].values)[i] == 0:\n",
    "                        all_negative_words.append(s)\n",
    "                else:\n",
    "                    continue\n",
    "            else:\n",
    "                continue\n",
    "    str1 = b\" \".join(filtered_sentence)\n",
    "    final_string.append(str1)\n",
    "    i += 1\n",
    "    \n",
    "# Adding new column into dataframe to store cleaned text\n",
    "final['CleanedText'] = final_string\n",
    "final['CleanedText'] = final['CleanedText'].str.decode('utf-8')\n",
    "\n",
    "# Creating new dataset with cleaned text for future use\n",
    "conn = sqlite3.connect('final.sqlite')\n",
    "c = conn.cursor()\n",
    "conn.text_factory = str\n",
    "final.to_sql('Reviews', conn, schema=None, if_exists='replace', index=True, index_label=None, chunksize=None, dtype=None)\n",
    "\n",
    "# Getting shape of new datset\n",
    "print(final.shape)"
   ]
  },
  {
   "cell_type": "code",
   "execution_count": 11,
   "metadata": {},
   "outputs": [
    {
     "data": {
      "text/plain": [
       "1    306208\n",
       "0     57016\n",
       "Name: Score, dtype: int64"
      ]
     },
     "execution_count": 11,
     "metadata": {},
     "output_type": "execute_result"
    }
   ],
   "source": [
    "final['Score'].value_counts()"
   ]
  },
  {
   "cell_type": "code",
   "execution_count": 13,
   "metadata": {},
   "outputs": [],
   "source": [
    "#Sorting data according to Time in ascending order for Time Based Splitting\n",
    "data = final.sort_values('Time', axis=0, ascending=True, inplace=False, kind='quicksort', na_position='last')\n",
    "\n",
    "\n",
    "# Collecting 100k rows without repetition from time_sorted_data dataframe\n",
    "#my_final = data.take(np.random.permutation(len(final))[:100000])\n",
    "#print(my_final.shape)\n",
    "# To get 2k +ve and 2k -ve reviews randomly.\n",
    "data_pos = data[data[\"Score\"] == 1].sample(n = 100000)\n",
    "data_neg = data[data[\"Score\"] == 0].sample(n = 50000)\n",
    "my_final = pd.concat([data_pos, data_neg])\n",
    "\n"
   ]
  },
  {
   "cell_type": "code",
   "execution_count": 14,
   "metadata": {},
   "outputs": [],
   "source": [
    "from sklearn.model_selection import train_test_split\n",
    "x = my_final['CleanedText'].values\n",
    "y = my_final['Score']"
   ]
  },
  {
   "cell_type": "code",
   "execution_count": 15,
   "metadata": {},
   "outputs": [
    {
     "name": "stdout",
     "output_type": "stream",
     "text": [
      "(150000,)\n"
     ]
    }
   ],
   "source": [
    "print(x.shape)"
   ]
  },
  {
   "cell_type": "code",
   "execution_count": 16,
   "metadata": {},
   "outputs": [],
   "source": [
    "# split the data set into train and test\n",
    "X_train, X_test, y_train, y_test = train_test_split(x, y, test_size=0.3, random_state=0)\n",
    "X_train, X_cv, y_train, y_cv = train_test_split(X_train, y_train, test_size=0.3)"
   ]
  },
  {
   "cell_type": "markdown",
   "metadata": {},
   "source": [
    "## Bag of Words"
   ]
  },
  {
   "cell_type": "code",
   "execution_count": 17,
   "metadata": {},
   "outputs": [],
   "source": [
    "from sklearn.feature_extraction.text import CountVectorizer\n",
    "#from sklearn.model_selection import train_test_split\n",
    "from sklearn import preprocessing\n",
    "count_vect = CountVectorizer(min_df = 50) \n",
    "X_train    = count_vect.fit_transform(X_train)\n",
    "X_cv       = count_vect.transform(X_cv)\n",
    "X_test     = count_vect.transform(X_test)\n",
    "#print(\"the type of count vectorizer :\",type(X_train))\n",
    "#print(\"the shape of out text BOW vectorizer : \",X_train.get_shape())\n",
    "#print(\"the number of unique words :\", X_train.get_shape()[1])\n"
   ]
  },
  {
   "cell_type": "code",
   "execution_count": 18,
   "metadata": {},
   "outputs": [
    {
     "data": {
      "text/plain": [
       "(73500, 3002)"
      ]
     },
     "execution_count": 18,
     "metadata": {},
     "output_type": "execute_result"
    }
   ],
   "source": [
    "X_train.shape"
   ]
  },
  {
   "cell_type": "code",
   "execution_count": 19,
   "metadata": {},
   "outputs": [
    {
     "data": {
      "text/plain": [
       "(31500, 3002)"
      ]
     },
     "execution_count": 19,
     "metadata": {},
     "output_type": "execute_result"
    }
   ],
   "source": [
    "X_cv.shape"
   ]
  },
  {
   "cell_type": "code",
   "execution_count": 20,
   "metadata": {},
   "outputs": [
    {
     "data": {
      "text/plain": [
       "(45000, 3002)"
      ]
     },
     "execution_count": 20,
     "metadata": {},
     "output_type": "execute_result"
    }
   ],
   "source": [
    "X_test.shape"
   ]
  },
  {
   "cell_type": "code",
   "execution_count": 21,
   "metadata": {},
   "outputs": [],
   "source": [
    "from sklearn.calibration import CalibratedClassifierCV"
   ]
  },
  {
   "cell_type": "code",
   "execution_count": 22,
   "metadata": {
    "scrolled": true
   },
   "outputs": [
    {
     "data": {
      "image/png": "[encoded data removed]",
      "text/plain": [
       "<Figure size 432x288 with 1 Axes>"
      ]
     },
     "metadata": {},
     "output_type": "display_data"
    }
   ],
   "source": [
    "from sklearn.metrics import roc_curve, auc\n",
    "from sklearn.metrics import roc_auc_score\n",
    "from sklearn.naive_bayes import MultinomialNB\n",
    "from matplotlib.legend_handler import HandlerLine2D\n",
    "\n",
    "alpha_values = []\n",
    "alpha        = 0.0001\n",
    "while(alpha <= 1000):\n",
    "    alpha_values.append(np.round(alpha,4))\n",
    "    alpha *= 10\n",
    "    \n",
    "train_pred = []\n",
    "cv_pred    = []\n",
    "for alpha in alpha_values:\n",
    "    model = MultinomialNB(alpha = alpha)\n",
    "    model.fit(X_train, y_train)\n",
    "    \n",
    "    #train \n",
    "    train_pre = model.predict_proba(X_train)[:,1]\n",
    "    roc_auc    =  roc_auc_score(y_train, train_pre)\n",
    "    #np.append(train_pred,roc_auc) \n",
    "    train_pred.append(roc_auc)\n",
    "    \n",
    "    \n",
    "    #cross val\n",
    "    cv_pre    = model.predict_proba(X_cv)[:,1]\n",
    "    roc_auc2    =  roc_auc_score(y_cv, cv_pre)\n",
    "    #np.append(cv_pred,roc_auc2)\n",
    "    cv_pred.append(roc_auc2)\n",
    "\n",
    "plt.plot(alpha_values, train_pred, 'b', label = \"Train AUC\")\n",
    "plt.plot(alpha_values, cv_pred, 'r', label = \"cross val\")\n",
    "\n",
    "plt.legend()\n",
    "\n",
    "plt.ylabel('AUC score')\n",
    "plt.xlabel('alpha_values')\n",
    "plt.show()\n",
    "\n",
    "\n",
    "\n"
   ]
  },
  {
   "cell_type": "code",
   "execution_count": 23,
   "metadata": {},
   "outputs": [
    {
     "data": {
      "image/png": "[encoded data removed]",
      "text/plain": [
       "<Figure size 432x288 with 1 Axes>"
      ]
     },
     "metadata": {},
     "output_type": "display_data"
    }
   ],
   "source": [
    "tra_pred = model.predict_proba(X_train)[:,1]\n",
    "fpr, tpr, thresholds = roc_curve(y_train,tra_pred)\n",
    "roc_auc = auc(fpr, tpr)\n",
    "\n",
    "test_pred = model.predict_proba(X_test)[:,1]\n",
    "fpr2, tpr2, thresholds2 = roc_curve(y_test,test_pred)\n",
    "roc_auc2 = auc(fpr2, tpr2)\n",
    "\n",
    "plt.title('Receiver Operating Characteristic')\n",
    "plt.plot(fpr, tpr, 'b',label='Train AUC = %0.2f'% roc_auc)\n",
    "plt.plot(fpr2, tpr2, 'r',label='Test AUC = %0.2f'% roc_auc2)\n",
    "plt.legend(loc='lower right')\n",
    "plt.plot([0,1],[0,1],'g--')\n",
    "#plt.xlim([-0.1,1.2])\n",
    "#plt.ylim([-0.1,1.2])\n",
    "plt.ylabel('True Positive Rate')\n",
    "plt.xlabel('False Positive Rate')\n",
    "plt.show()"
   ]
  },
  {
   "cell_type": "code",
   "execution_count": 24,
   "metadata": {},
   "outputs": [],
   "source": [
    "optimal_model = MultinomialNB(alpha = alpha)\n",
    "optimal_model.fit(X_train, y_train)\n",
    "prediction = optimal_model.predict(X_test)"
   ]
  },
  {
   "cell_type": "code",
   "execution_count": 25,
   "metadata": {},
   "outputs": [
    {
     "data": {
      "text/plain": [
       "(2, 3002)"
      ]
     },
     "execution_count": 25,
     "metadata": {},
     "output_type": "execute_result"
    }
   ],
   "source": [
    "bow_features = count_vect.get_feature_names()\n",
    "# To count feature for each class while fitting the model\n",
    "# Number of samples encountered for each (class, feature) during fitting\n",
    "feat_count = optimal_model.feature_count_\n",
    "feat_count.shape"
   ]
  },
  {
   "cell_type": "code",
   "execution_count": 26,
   "metadata": {},
   "outputs": [
    {
     "data": {
      "text/plain": [
       "(3002, 2)"
      ]
     },
     "execution_count": 26,
     "metadata": {},
     "output_type": "execute_result"
    }
   ],
   "source": [
    "log_prob = optimal_model.feature_log_prob_\n",
    "feature_prob = pd.DataFrame(log_prob, columns = bow_features)\n",
    "feature_prob_tr = feature_prob.T\n",
    "feature_prob_tr.shape"
   ]
  },
  {
   "cell_type": "code",
   "execution_count": 27,
   "metadata": {},
   "outputs": [
    {
     "name": "stdout",
     "output_type": "stream",
     "text": [
      "Top 10 Negative Features:-\n",
      " tast      -5.625971\n",
      "like      -5.699851\n",
      "product   -5.805840\n",
      "one       -6.115359\n",
      "flavor    -6.181564\n",
      "would     -6.203194\n",
      "tri       -6.206756\n",
      "good      -6.363576\n",
      "coffe     -6.396908\n",
      "buy       -6.410266\n",
      "Name: 0, dtype: float64\n",
      "\n",
      "\n",
      " Top 10 Positive Features:-\n",
      " like      -5.426239\n",
      "tast      -5.481977\n",
      "love      -5.567471\n",
      "good      -5.579615\n",
      "great     -5.633021\n",
      "flavor    -5.657964\n",
      "use       -5.696451\n",
      "product   -5.770715\n",
      "one       -5.784730\n",
      "tri       -5.813135\n",
      "Name: 1, dtype: float64\n"
     ]
    }
   ],
   "source": [
    "# To show top 10 feature from both class\n",
    "# Feature Importance\n",
    "print(\"Top 10 Negative Features:-\\n\",feature_prob_tr[0].sort_values(ascending = False)[0:10])\n",
    "print(\"\\n\\n Top 10 Positive Features:-\\n\",feature_prob_tr[1].sort_values(ascending = False)[0:10])"
   ]
  },
  {
   "cell_type": "code",
   "execution_count": 28,
   "metadata": {},
   "outputs": [
    {
     "name": "stdout",
     "output_type": "stream",
     "text": [
      "Classification Report: \n",
      "\n",
      "             precision    recall  f1-score   support\n",
      "\n",
      "          0       0.96      0.06      0.12     15223\n",
      "          1       0.68      1.00      0.81     29777\n",
      "\n",
      "avg / total       0.77      0.68      0.57     45000\n",
      "\n"
     ]
    }
   ],
   "source": [
    "print(\"Classification Report: \\n\")\n",
    "print(classification_report(y_test, prediction))"
   ]
  },
  {
   "cell_type": "code",
   "execution_count": 29,
   "metadata": {},
   "outputs": [
    {
     "data": {
      "image/png": "[encoded data removed]",
      "text/plain": [
       "<Figure size 432x288 with 2 Axes>"
      ]
     },
     "metadata": {},
     "output_type": "display_data"
    }
   ],
   "source": [
    "conf_matrix = confusion_matrix(y_test, prediction)\n",
    "class_label = ['negative', 'positive']\n",
    "df_conf_matrix = pd.DataFrame(\n",
    "    conf_matrix, index=class_label, columns=class_label)\n",
    "sb.heatmap(df_conf_matrix, annot=True, fmt='d')\n",
    "plt.title(\"Confusion Matrix\")\n",
    "plt.xlabel(\"Predicted\")\n",
    "plt.ylabel(\"Actual\")\n",
    "plt.show()"
   ]
  },
  {
   "cell_type": "markdown",
   "metadata": {},
   "source": [
    "## TF-IDF"
   ]
  },
  {
   "cell_type": "code",
   "execution_count": 30,
   "metadata": {},
   "outputs": [],
   "source": [
    "# split the data set into train and test\n",
    "X_train, X_test, y_train, y_test = train_test_split(x, y, test_size=0.3, random_state=0)\n",
    "X_train, X_cv, y_train, y_cv = train_test_split(X_train, y_train, test_size=0.3)"
   ]
  },
  {
   "cell_type": "code",
   "execution_count": 31,
   "metadata": {},
   "outputs": [
    {
     "name": "stdout",
     "output_type": "stream",
     "text": [
      "(73500, 40504) (45000, 40504) (73500,) (45000,)\n"
     ]
    }
   ],
   "source": [
    "# Initializing tfidf vectorizer\n",
    "tfidf_vect = TfidfVectorizer(ngram_range=(1, 1))\n",
    "\n",
    "# Fitting for tfidf vectorization\n",
    "X_train = tfidf_vect.fit_transform(X_train)\n",
    "X_cv = tfidf_vect.transform(X_cv)\n",
    "X_test = tfidf_vect.transform(X_test)\n",
    "\n",
    "print(X_train.shape, X_test.shape, y_train.shape, y_test.shape)"
   ]
  },
  {
   "cell_type": "code",
   "execution_count": 32,
   "metadata": {},
   "outputs": [
    {
     "data": {
      "image/png": "[encoded data removed]",
      "text/plain": [
       "<Figure size 432x288 with 1 Axes>"
      ]
     },
     "metadata": {},
     "output_type": "display_data"
    }
   ],
   "source": [
    "from sklearn.metrics import roc_curve, auc\n",
    "from sklearn.metrics import roc_auc_score\n",
    "from sklearn.naive_bayes import MultinomialNB\n",
    "from matplotlib.legend_handler import HandlerLine2D\n",
    "\n",
    "alpha_values = []\n",
    "alpha        = 0.0001\n",
    "while(alpha <= 1000):\n",
    "    alpha_values.append(np.round(alpha,4))\n",
    "    alpha *= 10\n",
    "    \n",
    "train_pred = []\n",
    "cv_pred    = []\n",
    "for alpha in alpha_values:\n",
    "    model = MultinomialNB(alpha = alpha)\n",
    "    model.fit(X_train, y_train)\n",
    "    \n",
    "    #train \n",
    "    train_pre = model.predict_proba(X_train)[:,1]\n",
    "    roc_auc    =  roc_auc_score(y_train, train_pre)\n",
    "    #np.append(train_pred,roc_auc) \n",
    "    train_pred.append(roc_auc)\n",
    "    \n",
    "    \n",
    "    #cross val\n",
    "    cv_pre    = model.predict_proba(X_cv)[:,1]\n",
    "    roc_auc2    =  roc_auc_score(y_cv, cv_pre)\n",
    "    #np.append(cv_pred,roc_auc2)\n",
    "    cv_pred.append(roc_auc2)\n",
    "\n",
    "plt.plot(alpha_values, train_pred, 'b', label = \"Train AUC\")\n",
    "plt.plot(alpha_values, cv_pred, 'r', label = \"cross val\")\n",
    "\n",
    "plt.legend()\n",
    "\n",
    "plt.ylabel('AUC score')\n",
    "plt.xlabel('alpha_values')\n",
    "plt.show()\n",
    "\n",
    "\n",
    "\n"
   ]
  },
  {
   "cell_type": "code",
   "execution_count": 33,
   "metadata": {},
   "outputs": [
    {
     "data": {
      "image/png": "[encoded data removed]",
      "text/plain": [
       "<Figure size 432x288 with 1 Axes>"
      ]
     },
     "metadata": {},
     "output_type": "display_data"
    }
   ],
   "source": [
    "tra_pred = model.predict_proba(X_train)[:,1]\n",
    "fpr, tpr, thresholds = roc_curve(y_train,tra_pred)\n",
    "roc_auc = auc(fpr, tpr)\n",
    "\n",
    "test_pred = model.predict_proba(X_test)[:,1]\n",
    "fpr2, tpr2, thresholds2 = roc_curve(y_test,test_pred)\n",
    "roc_auc2 = auc(fpr2, tpr2)\n",
    "\n",
    "plt.title('Receiver Operating Characteristic')\n",
    "plt.plot(fpr, tpr, 'b',label='Train AUC = %0.2f'% roc_auc)\n",
    "plt.plot(fpr2, tpr2, 'r',label='Test AUC = %0.2f'% roc_auc2)\n",
    "plt.legend(loc='lower right')\n",
    "plt.plot([0,1],[0,1],'g--')\n",
    "#plt.xlim([-0.1,1.2])\n",
    "#plt.ylim([-0.1,1.2])\n",
    "plt.ylabel('True Positive Rate')\n",
    "plt.xlabel('False Positive Rate')\n",
    "plt.show()"
   ]
  },
  {
   "cell_type": "code",
   "execution_count": 34,
   "metadata": {},
   "outputs": [
    {
     "data": {
      "text/plain": [
       "(2, 40504)"
      ]
     },
     "execution_count": 34,
     "metadata": {},
     "output_type": "execute_result"
    }
   ],
   "source": [
    "bow_features = count_vect.get_feature_names()\n",
    "# To count feature for each class while fitting the model\n",
    "# Number of samples encountered for each (class, feature) during fitting\n",
    "feat_count = model.feature_count_\n",
    "feat_count.shape"
   ]
  },
  {
   "cell_type": "code",
   "execution_count": 35,
   "metadata": {},
   "outputs": [
    {
     "name": "stdout",
     "output_type": "stream",
     "text": [
      "Top 10 Negative Features:-\n",
      " tast      -5.625971\n",
      "like      -5.699851\n",
      "product   -5.805840\n",
      "one       -6.115359\n",
      "flavor    -6.181564\n",
      "would     -6.203194\n",
      "tri       -6.206756\n",
      "good      -6.363576\n",
      "coffe     -6.396908\n",
      "buy       -6.410266\n",
      "Name: 0, dtype: float64\n",
      "\n",
      "\n",
      " Top 10 Positive Features:-\n",
      " like      -5.426239\n",
      "tast      -5.481977\n",
      "love      -5.567471\n",
      "good      -5.579615\n",
      "great     -5.633021\n",
      "flavor    -5.657964\n",
      "use       -5.696451\n",
      "product   -5.770715\n",
      "one       -5.784730\n",
      "tri       -5.813135\n",
      "Name: 1, dtype: float64\n"
     ]
    }
   ],
   "source": [
    "#To show top 10 feature from both class\n",
    "# Feature Importance\n",
    "print(\"Top 10 Negative Features:-\\n\",feature_prob_tr[0].sort_values(ascending = False)[0:10])\n",
    "print(\"\\n\\n Top 10 Positive Features:-\\n\",feature_prob_tr[1].sort_values(ascending = False)[0:10])"
   ]
  },
  {
   "cell_type": "code",
   "execution_count": 36,
   "metadata": {},
   "outputs": [
    {
     "name": "stdout",
     "output_type": "stream",
     "text": [
      "Classification Report: \n",
      "\n",
      "             precision    recall  f1-score   support\n",
      "\n",
      "          0       0.96      0.06      0.12     15223\n",
      "          1       0.68      1.00      0.81     29777\n",
      "\n",
      "avg / total       0.77      0.68      0.57     45000\n",
      "\n"
     ]
    }
   ],
   "source": [
    "print(\"Classification Report: \\n\")\n",
    "print(classification_report(y_test, prediction))"
   ]
  },
  {
   "cell_type": "code",
   "execution_count": 37,
   "metadata": {},
   "outputs": [
    {
     "data": {
      "image/png": "[encoded data removed]",
      "text/plain": [
       "<Figure size 432x288 with 2 Axes>"
      ]
     },
     "metadata": {},
     "output_type": "display_data"
    }
   ],
   "source": [
    "conf_matrix = confusion_matrix(y_test, prediction)\n",
    "class_label = ['negative', 'positive']\n",
    "df_conf_matrix = pd.DataFrame(\n",
    "    conf_matrix, index=class_label, columns=class_label)\n",
    "sb.heatmap(df_conf_matrix, annot=True, fmt='d')\n",
    "plt.title(\"Confusion Matrix\")\n",
    "plt.xlabel(\"Predicted\")\n",
    "plt.ylabel(\"Actual\")\n",
    "plt.show()"
   ]
  },
  {
   "cell_type": "code",
   "execution_count": 40,
   "metadata": {},
   "outputs": [],
   "source": [
    "from prettytable import PrettyTable\n",
    "x = PrettyTable()"
   ]
  },
  {
   "cell_type": "code",
   "execution_count": 41,
   "metadata": {},
   "outputs": [
    {
     "name": "stdout",
     "output_type": "stream",
     "text": [
      "+--------------+---------------+------+\n",
      "|     Type     |     Model     | AUC  |\n",
      "+--------------+---------------+------+\n",
      "| Bag of Words | MultinomialNB | 0.77 |\n",
      "|    Tf-idf    | MultinomialNB | 0.78 |\n",
      "+--------------+---------------+------+\n"
     ]
    }
   ],
   "source": [
    "x.field_names = [\"Type\",\"Model\", \"AUC\"]\n",
    "x.add_row([\"Bag of Words\",\"MultinomialNB\",0.77])\n",
    "x.add_row([\"Tf-idf\",\"MultinomialNB\",0.78])\n",
    "\n",
    "print(x)"
   ]
  },
  {
   "cell_type": "markdown",
   "metadata": {},
   "source": [
    "## Conclusion\n",
    "By comparing the two developed models, Naive base model with tfidf feature generation technique gives auc 0.78 which is the best to predict the polarity of reviews among all the models "
   ]
  },
  {
   "cell_type": "code",
   "execution_count": null,
   "metadata": {},
   "outputs": [],
   "source": []
  }
 ],
 "metadata": {
  "kernelspec": {
   "display_name": "Python 3",
   "language": "python",
   "name": "python3"
  },
  "language_info": {
   "codemirror_mode": {
    "name": "ipython",
    "version": 3
   },
   "file_extension": ".py",
   "mimetype": "text/x-python",
   "name": "python",
   "nbconvert_exporter": "python",
   "pygments_lexer": "ipython3",
   "version": "3.6.5"
  }
 },
 "nbformat": 4,
 "nbformat_minor": 2
}
